{
 "cells": [
  {
   "metadata": {},
   "cell_type": "markdown",
   "source": "# Cleaning the wrong index",
   "id": "88894ff08270cd84"
  },
  {
   "cell_type": "code",
   "id": "initial_id",
   "metadata": {
    "collapsed": true,
    "ExecuteTime": {
     "end_time": "2024-11-19T06:18:57.244463Z",
     "start_time": "2024-11-19T06:18:57.241958Z"
    }
   },
   "source": "import json\n",
   "outputs": [],
   "execution_count": 1
  },
  {
   "metadata": {
    "ExecuteTime": {
     "end_time": "2024-11-14T18:20:38.146935Z",
     "start_time": "2024-11-14T18:20:38.013338Z"
    }
   },
   "cell_type": "code",
   "source": [
    "import os\n",
    "\n",
    "with open(\"results/ScienceQA/phi3_5/validate.json\") as f:\n",
    "    data = json.load(f)\n",
    "    n = len(data)\n",
    "    index = 0\n",
    "    while n != 0:\n",
    "        if os.path.isfile(f\"datasets/ScienceQA/images/train/{index}.png\"):\n",
    "            data[len(data)-n]['id'] = index\n",
    "            index += 1\n",
    "            n -= 1\n",
    "        else:\n",
    "            index += 1"
   ],
   "id": "fb429440605fee38",
   "outputs": [],
   "execution_count": 6
  },
  {
   "metadata": {
    "ExecuteTime": {
     "end_time": "2024-11-14T18:20:40.012089Z",
     "start_time": "2024-11-14T18:20:39.999312Z"
    }
   },
   "cell_type": "code",
   "source": "print(data[-1])",
   "id": "5216aeb79cc14a26",
   "outputs": [
    {
     "name": "stdout",
     "output_type": "stream",
     "text": [
      "{'id': 818, 'response': 'Step 1: Identify the information needed to answer the question.\\nThe question asks for the capital of Oregon.\\n\\nStep 2: Compare the options to the information needed.\\nOption A is Salem, Option B is Olympia, Option C is Portland, and Option D is Carson City.\\n\\nStep 3: Determine the correct option based on the information needed.\\nThe correct option is (A) Salem.\\n\\nAnswer: (A)', 'true_false': True}\n"
     ]
    }
   ],
   "execution_count": 7
  },
  {
   "metadata": {
    "ExecuteTime": {
     "end_time": "2024-11-14T18:23:01.450047Z",
     "start_time": "2024-11-14T18:23:01.420378Z"
    }
   },
   "cell_type": "code",
   "source": [
    "with open(\"results/ScienceQA/phi3_5/validate.json\", \"w\") as f:\n",
    "    json.dump(data, f, indent=4)"
   ],
   "id": "b35f2b82b992a761",
   "outputs": [],
   "execution_count": 8
  },
  {
   "metadata": {},
   "cell_type": "markdown",
   "source": "# Choose the good responses",
   "id": "dac95df2e58dedff"
  },
  {
   "metadata": {
    "ExecuteTime": {
     "end_time": "2024-11-14T18:38:11.605931Z",
     "start_time": "2024-11-14T18:38:11.592527Z"
    }
   },
   "cell_type": "code",
   "source": [
    "with open(\"results/ScienceQA/phi3_5/validate.json\", \"r\") as f:\n",
    "    data = json.load(f)\n",
    "    good_data = []\n",
    "    true = 0\n",
    "    false = 0\n",
    "for i in data:\n",
    "    if i[\"true_false\"] == False:\n",
    "        good_data.append(i)\n",
    "        false += 1\n",
    "    else:\n",
    "        if \"Step 4\" in i[\"response\"]:\n",
    "            good_data.append(i)\n",
    "            true += 1\n",
    "        \n",
    "print(len(good_data))\n",
    "print(false)\n",
    "print(true)\n",
    "            "
   ],
   "id": "1a3dd2375c8dba43",
   "outputs": [
    {
     "name": "stdout",
     "output_type": "stream",
     "text": [
      "125\n",
      "61\n",
      "64\n"
     ]
    }
   ],
   "execution_count": 14
  },
  {
   "metadata": {
    "ExecuteTime": {
     "end_time": "2024-11-14T18:41:36.676567Z",
     "start_time": "2024-11-14T18:41:36.651943Z"
    }
   },
   "cell_type": "code",
   "source": [
    "with open(\"results/ScienceQA/phi3_5/validate_good.json\", \"w\") as f:\n",
    "    json.dump(good_data, f, indent=4)"
   ],
   "id": "c80bf414b720f896",
   "outputs": [],
   "execution_count": 16
  },
  {
   "metadata": {
    "ExecuteTime": {
     "end_time": "2024-11-14T18:46:09.077513Z",
     "start_time": "2024-11-14T18:46:09.059995Z"
    }
   },
   "cell_type": "code",
   "source": [
    "with open(\"results/ScienceQA/phi3_5/train.json\", \"r\") as f:\n",
    "    data = json.load(f)\n",
    "    good_data = []\n",
    "    true = 0\n",
    "    false = 0\n",
    "for i in data:\n",
    "    if i[\"true_false\"] == False:\n",
    "        good_data.append(i)\n",
    "        false += 1\n",
    "    else:\n",
    "        if \"Step 4\" in i[\"response\"]:\n",
    "            good_data.append(i)\n",
    "            true += 1\n",
    "        \n",
    "print(len(good_data))\n",
    "print(false)\n",
    "print(true)"
   ],
   "id": "a7e54648941fb164",
   "outputs": [
    {
     "name": "stdout",
     "output_type": "stream",
     "text": [
      "316\n",
      "166\n",
      "150\n"
     ]
    }
   ],
   "execution_count": 17
  },
  {
   "metadata": {
    "ExecuteTime": {
     "end_time": "2024-11-14T18:46:49.411561Z",
     "start_time": "2024-11-14T18:46:49.393702Z"
    }
   },
   "cell_type": "code",
   "source": [
    "with open(\"results/ScienceQA/phi3_5/train_good.json\", \"w\") as f:\n",
    "    json.dump(good_data, f, indent=4)"
   ],
   "id": "5987b5a402333841",
   "outputs": [],
   "execution_count": 18
  },
  {
   "metadata": {
    "ExecuteTime": {
     "end_time": "2024-11-19T06:18:59.767405Z",
     "start_time": "2024-11-19T06:18:59.750349Z"
    }
   },
   "cell_type": "code",
   "source": [
    "with open(\"results/ScienceQA/phi3_5/train_2.json\", \"r\") as f:\n",
    "    data = json.load(f)\n",
    "    good_data = []\n",
    "    true = 0\n",
    "    false = 0\n",
    "for i in data:\n",
    "    if i[\"true_false\"] == False:\n",
    "        good_data.append(i)\n",
    "        false += 1\n",
    "    else:\n",
    "        if \"Step 4\" in i[\"response\"]:\n",
    "            good_data.append(i)\n",
    "            true += 1\n",
    "        \n",
    "print(len(good_data))\n",
    "print(false)\n",
    "print(true)"
   ],
   "id": "1fbafdd6c9cf1d9f",
   "outputs": [
    {
     "name": "stdout",
     "output_type": "stream",
     "text": [
      "1426\n",
      "735\n",
      "691\n"
     ]
    }
   ],
   "execution_count": 2
  },
  {
   "metadata": {
    "ExecuteTime": {
     "end_time": "2024-11-19T06:20:45.215227Z",
     "start_time": "2024-11-19T06:20:45.203796Z"
    }
   },
   "cell_type": "code",
   "source": [
    "with open(\"results/ScienceQA/phi3_5/train_good.json\", \"r\") as f:\n",
    "    good_data_1 = json.load(f)\n",
    "good_data_2 = good_data_1 + good_data\n",
    "with open(\"results/ScienceQA/phi3_5/train_2_good.json\", \"w\") as f:\n",
    "    json.dump(good_data, f, indent=4)"
   ],
   "id": "a3b6a78ef8e6a08",
   "outputs": [],
   "execution_count": 3
  },
  {
   "metadata": {
    "ExecuteTime": {
     "end_time": "2024-11-20T08:06:49.316716Z",
     "start_time": "2024-11-20T08:06:49.313473Z"
    }
   },
   "cell_type": "code",
   "source": [
    "import json\n",
    "with open(\"results/ScienceQA/phi3_5/reward.json\", \"r\") as f:\n",
    "    reward = json.load(f)"
   ],
   "id": "2be2257920288476",
   "outputs": [],
   "execution_count": 1
  },
  {
   "metadata": {
    "ExecuteTime": {
     "end_time": "2024-11-20T08:07:02.265156Z",
     "start_time": "2024-11-20T08:07:02.260692Z"
    }
   },
   "cell_type": "code",
   "source": "len(reward)",
   "id": "b59566f4666c2fe3",
   "outputs": [
    {
     "data": {
      "text/plain": [
       "1000"
      ]
     },
     "execution_count": 2,
     "metadata": {},
     "output_type": "execute_result"
    }
   ],
   "execution_count": 2
  },
  {
   "metadata": {},
   "cell_type": "code",
   "outputs": [],
   "execution_count": null,
   "source": "",
   "id": "7527f3ef29599315"
  },
  {
   "metadata": {},
   "cell_type": "markdown",
   "source": "# cleaning reward training data",
   "id": "4f34742465bca03d"
  },
  {
   "metadata": {
    "ExecuteTime": {
     "end_time": "2024-11-21T20:53:06.756752Z",
     "start_time": "2024-11-21T20:53:06.754469Z"
    }
   },
   "cell_type": "code",
   "source": "import json",
   "id": "c74abeed63b7f1e",
   "outputs": [],
   "execution_count": 1
  },
  {
   "metadata": {
    "ExecuteTime": {
     "end_time": "2024-11-21T20:54:28.558327Z",
     "start_time": "2024-11-21T20:54:28.556162Z"
    }
   },
   "cell_type": "code",
   "source": [
    "dataset = \"ScienceQA\"\n",
    "train_js = f'results/{dataset}/phi3_5/train_2_good.json'\n",
    "val_js = f'results/{dataset}/phi3_5/train_good.json'\n",
    "question_js = f'datasets/{dataset}/train.json'\n",
    "reward_js = f'results/{dataset}/phi3_5/reward_2.json'\n",
    "reward_js_val = f'results/{dataset}/phi3_5/reward.json'\n"
   ],
   "id": "8518589651a0349d",
   "outputs": [],
   "execution_count": 2
  },
  {
   "metadata": {
    "ExecuteTime": {
     "end_time": "2024-11-21T20:54:51.087108Z",
     "start_time": "2024-11-21T20:54:50.985696Z"
    }
   },
   "cell_type": "code",
   "source": [
    "def read_json(source):\n",
    "    with open(source, 'r', encoding='utf-8') as f:\n",
    "        json_list = json.load(f)\n",
    "    return json_list\n",
    "\n",
    "\n",
    "train_json = read_json(train_js)\n",
    "val_json = read_json(val_js)\n",
    "question_json = read_json(question_js)\n",
    "reward_json = read_json(reward_js)\n",
    "reward_json_val = read_json(reward_js_val)"
   ],
   "id": "ede7e5e370da24c5",
   "outputs": [],
   "execution_count": 3
  },
  {
   "metadata": {
    "ExecuteTime": {
     "end_time": "2024-11-21T21:17:14.272267Z",
     "start_time": "2024-11-21T21:17:14.146869Z"
    }
   },
   "cell_type": "code",
   "source": [
    "data = []\n",
    "for idx in range(len(reward_json)):\n",
    "     # find question and prompt\n",
    "    i = reward_json[idx]['id']\n",
    "    placeholder = f\"<|image_1|>\\n\"\n",
    "    e = (\n",
    "        \"Question: What do these two changes have in common?\\ntearing a piece of paper\\nbreaking a piece of glass\\nContext: N/A\\nOptions: (A) Both are only physical changes. (B) Both are chemical changes. (C) Both are caused by cooling. (D) Both are caused by heating.\\nStep 1: Identify the trait mentioned in the description.\\nThe trait mentioned is \\\"Logan has blue eyes.\\\"\\n\\nStep 2: Determine which option provides information about the origin of the trait.\\nOption A states that Logan's mother has blue eyes and passed this trait down to Logan.\\n\\nStep 3: Compare the information in the options to the trait mentioned.\\nOption A provides information about the origin of the trait, while option B does not.\\n\\nStep 4: Select the option that supports the conclusion that Logan inherited the trait.\\n(A) supports the conclusion that Logan inherited the trait.\\n\\nAnswer: (A)\\n\\n\"\n",
    "        \"Question: What information supports the conclusion that Logan inherited this trait?\\nContext: Read the description of a trait.\\nLogan has blue eyes.\\nOptions: (A) Logan's mother has blue eyes. She passed this trait down to Logan. (B) Logan likes to wear a blue sweater to match his blue eyes.\\nStep 1: Identify the type of change for each option.\\nTearing a piece of paper is a physical change because it changes the shape and size of the paper, but it does not change the chemical composition of the paper.\\nBreaking a piece of glass is also a physical change because it changes the shape and size of the glass, but it does not change the chemical composition of the glass.\\n\\nStep 2: Compare the types of changes.\\nBoth tearing a piece of paper and breaking a piece of glass are physical changes.\\n\\nStep 3: Select the correct option.\\nThe correct option is (A).\\n\\nAnswer:(A)\\n\\n\"\n",
    "    )\n",
    "    query = question_json[i]['input']\n",
    "    prompt = e + query + \"Hint: Please answer the question and provide the correct option letter, e.g., A, B, C, D, at the end. Let's answer step by step.\\n\"\n",
    "    # find step and rewards\n",
    "    s = reward_json[idx].keys()\n",
    "    s = list(s)[-1]\n",
    "    p = int(s[-1])\n",
    "    s_1 = f\"Step {p+1}\"\n",
    "    # find corresponding response\n",
    "    response_list = [d.get(\"id\") for d in train_json]\n",
    "    j = response_list.index(i)\n",
    "    response = train_json[j]['response']\n",
    "    if s_1 in response:\n",
    "        answer = response.split(s_1)[0]\n",
    "    elif \"Answer\" in response:\n",
    "        answer = response.split(\"Answer\")[0]\n",
    "    else:\n",
    "        continue\n",
    "    \n",
    "    label = reward_json[idx][s]\n",
    "    data.append({\"id\":i, \"step_id\":p, \"input\":placeholder + prompt + answer, \"label\":label})\n",
    "    "
   ],
   "id": "60b2108d64e7af1b",
   "outputs": [],
   "execution_count": 15
  },
  {
   "metadata": {
    "ExecuteTime": {
     "end_time": "2024-11-21T21:17:17.489076Z",
     "start_time": "2024-11-21T21:17:17.486570Z"
    }
   },
   "cell_type": "code",
   "source": "len(data)",
   "id": "3741eb6c13fc36f4",
   "outputs": [
    {
     "data": {
      "text/plain": [
       "2100"
      ]
     },
     "execution_count": 16,
     "metadata": {},
     "output_type": "execute_result"
    }
   ],
   "execution_count": 16
  },
  {
   "metadata": {
    "ExecuteTime": {
     "end_time": "2024-11-21T21:09:58.382175Z",
     "start_time": "2024-11-21T21:09:58.346436Z"
    }
   },
   "cell_type": "code",
   "source": [
    "with open(\"results/ScienceQA/phi3_5/reward_train.json\", \"w\") as f:\n",
    "    json.dump(data, f, indent=4)"
   ],
   "id": "36ce5ccd7cdb5983",
   "outputs": [],
   "execution_count": 11
  },
  {
   "metadata": {
    "ExecuteTime": {
     "end_time": "2024-11-21T21:15:23.495136Z",
     "start_time": "2024-11-21T21:15:23.438839Z"
    }
   },
   "cell_type": "code",
   "source": [
    "data = []\n",
    "for idx in range(len(reward_json_val)):\n",
    "     # find question and prompt\n",
    "    i = reward_json_val[idx]['id']\n",
    "    placeholder = f\"<|image_1|>\\n\"\n",
    "    e = (\n",
    "        \"Question: What do these two changes have in common?\\ntearing a piece of paper\\nbreaking a piece of glass\\nContext: N/A\\nOptions: (A) Both are only physical changes. (B) Both are chemical changes. (C) Both are caused by cooling. (D) Both are caused by heating.\\nStep 1: Identify the trait mentioned in the description.\\nThe trait mentioned is \\\"Logan has blue eyes.\\\"\\n\\nStep 2: Determine which option provides information about the origin of the trait.\\nOption A states that Logan's mother has blue eyes and passed this trait down to Logan.\\n\\nStep 3: Compare the information in the options to the trait mentioned.\\nOption A provides information about the origin of the trait, while option B does not.\\n\\nStep 4: Select the option that supports the conclusion that Logan inherited the trait.\\n(A) supports the conclusion that Logan inherited the trait.\\n\\nAnswer: (A)\\n\\n\"\n",
    "        \"Question: What information supports the conclusion that Logan inherited this trait?\\nContext: Read the description of a trait.\\nLogan has blue eyes.\\nOptions: (A) Logan's mother has blue eyes. She passed this trait down to Logan. (B) Logan likes to wear a blue sweater to match his blue eyes.\\nStep 1: Identify the type of change for each option.\\nTearing a piece of paper is a physical change because it changes the shape and size of the paper, but it does not change the chemical composition of the paper.\\nBreaking a piece of glass is also a physical change because it changes the shape and size of the glass, but it does not change the chemical composition of the glass.\\n\\nStep 2: Compare the types of changes.\\nBoth tearing a piece of paper and breaking a piece of glass are physical changes.\\n\\nStep 3: Select the correct option.\\nThe correct option is (A).\\n\\nAnswer:(A)\\n\\n\"\n",
    "    )\n",
    "    query = question_json[i]['input']\n",
    "    prompt = e + query + \"Hint: Please answer the question and provide the correct option letter, e.g., A, B, C, D, at the end. Let's answer step by step.\\n\"\n",
    "    # find step and rewards\n",
    "    s = reward_json_val[idx].keys()\n",
    "    s = list(s)[-1]\n",
    "    p = int(s[-1])\n",
    "    s_1 = f\"Step {p+1}\"\n",
    "    # find corresponding response\n",
    "    response_list = [d.get(\"id\") for d in train_json]\n",
    "    j = response_list.index(i)\n",
    "    response = train_json[j]['response']\n",
    "    if s_1 in response:\n",
    "        answer = response.split(s_1)[0]\n",
    "    elif \"Answer\" in response:\n",
    "        answer = response.split(\"Answer\")[0]\n",
    "    else:\n",
    "        continue\n",
    "    \n",
    "    label = reward_json_val[idx][s]\n",
    "    data.append({\"id\":i, \"step_id\":p, \"input\":placeholder + prompt + answer, \"label\":label})\n",
    "    "
   ],
   "id": "36cf5a61b5175dd3",
   "outputs": [],
   "execution_count": 12
  },
  {
   "metadata": {
    "ExecuteTime": {
     "end_time": "2024-11-21T21:16:05.587851Z",
     "start_time": "2024-11-21T21:16:05.585053Z"
    }
   },
   "cell_type": "code",
   "source": "len(data)",
   "id": "b84d186b68e7202f",
   "outputs": [
    {
     "data": {
      "text/plain": [
       "1000"
      ]
     },
     "execution_count": 13,
     "metadata": {},
     "output_type": "execute_result"
    }
   ],
   "execution_count": 13
  },
  {
   "metadata": {
    "ExecuteTime": {
     "end_time": "2024-11-21T21:16:25.267154Z",
     "start_time": "2024-11-21T21:16:25.248013Z"
    }
   },
   "cell_type": "code",
   "source": [
    "with open(\"results/ScienceQA/phi3_5/reward_valid.json\", \"w\") as f:\n",
    "    json.dump(data, f, indent=4)"
   ],
   "id": "3733a7a854ddbbe0",
   "outputs": [],
   "execution_count": 14
  },
  {
   "metadata": {},
   "cell_type": "code",
   "outputs": [],
   "execution_count": null,
   "source": [
    "import json\n",
    "with open(\"results/ScienceQA/phi3_5/deepspeed_config.json\", \"w\") as f:\n",
    "    data = {\n",
    "    \"fp16\": {\n",
    "        \"enabled\": true,\n",
    "        \"loss_scale\": 0,\n",
    "        \"loss_scale_window\": 1000,\n",
    "        \"initial_scale_power\": 16,\n",
    "        \"hysteresis\": 2,\n",
    "        \"min_loss_scale\": 1\n",
    "    },\n",
    "    \"optimizer\": {\n",
    "        \"type\": \"AdamW\",\n",
    "        \"params\": {\n",
    "            \"lr\": \"auto\",\n",
    "            \"weight_decay\": \"auto\",\n",
    "            \"torch_adam\": true,\n",
    "            \"adam_w_mode\": true\n",
    "        }\n",
    "    },\n",
    "    \"scheduler\": {\n",
    "        \"type\": \"WarmupDecayLR\",\n",
    "        \"params\": {\n",
    "            \"warmup_min_lr\": \"auto\",\n",
    "            \"warmup_max_lr\": \"auto\",\n",
    "            \"warmup_num_steps\": \"auto\",\n",
    "            \"total_num_steps\": \"auto\"\n",
    "        }\n",
    "    },\n",
    "    \"zero_optimization\": {\n",
    "        \"stage\": 2,\n",
    "        \"allgather_partitions\": true,\n",
    "        \"allgather_bucket_size\": 2e8,\n",
    "        \"overlap_comm\": true,\n",
    "        \"reduce_scatter\": true,\n",
    "        \"reduce_bucket_size\": \"auto\",\n",
    "        \"contiguous_gradients\": true\n",
    "    },\n",
    "    \"gradient_accumulation_steps\": 1,\n",
    "    \"gradient_clipping\": \"auto\",\n",
    "    \"steps_per_print\": 2000,\n",
    "    \"train_batch_size\": \"auto\",\n",
    "    \"train_micro_batch_size_per_gpu\": \"auto\",\n",
    "    \"wall_clock_breakdown\": false\n",
    "}\n",
    "    json.dump(data, f, indent=4)"
   ],
   "id": "e03f5278f14d68e3"
  },
  {
   "metadata": {},
   "cell_type": "markdown",
   "source": "# test data clening",
   "id": "ab7fc44cbf1ef591"
  },
  {
   "metadata": {
    "ExecuteTime": {
     "end_time": "2024-11-25T21:00:04.980809Z",
     "start_time": "2024-11-25T21:00:04.977500Z"
    }
   },
   "cell_type": "code",
   "source": [
    "import json\n",
    "\n",
    "dataset = \"ScienceQA\"\n",
    "test_js = f'results/{dataset}/phi3_5/test.json'\n",
    "question_js = f'datasets/{dataset}/test.json'"
   ],
   "id": "cf1accb13d0605a5",
   "outputs": [],
   "execution_count": 9
  },
  {
   "metadata": {
    "ExecuteTime": {
     "end_time": "2024-11-25T21:00:06.421143Z",
     "start_time": "2024-11-25T21:00:06.357031Z"
    }
   },
   "cell_type": "code",
   "source": [
    "def read_json(source):\n",
    "    with open(source, 'r', encoding='utf-8') as f:\n",
    "        json_list = json.load(f)\n",
    "    return json_list\n",
    "\n",
    "\n",
    "test_json = read_json(test_js)\n",
    "question_json = read_json(question_js)"
   ],
   "id": "f40294457e30e1d8",
   "outputs": [],
   "execution_count": 10
  },
  {
   "metadata": {
    "ExecuteTime": {
     "end_time": "2024-11-25T21:00:08.576435Z",
     "start_time": "2024-11-25T21:00:08.518099Z"
    }
   },
   "cell_type": "code",
   "source": [
    "import os\n",
    "\n",
    "data = []\n",
    "for i in test_json:\n",
    "    question = question_json[i['id']]\n",
    "    placeholder = f\"<|image_1|>\\n\"\n",
    "    e = (\n",
    "        \"Question: What do these two changes have in common?\\ntearing a piece of paper\\nbreaking a piece of glass\\nContext: N/A\\nOptions: (A) Both are only physical changes. (B) Both are chemical changes. (C) Both are caused by cooling. (D) Both are caused by heating.\\nStep 1: Identify the trait mentioned in the description.\\nThe trait mentioned is \\\"Logan has blue eyes.\\\"\\n\\nStep 2: Determine which option provides information about the origin of the trait.\\nOption A states that Logan's mother has blue eyes and passed this trait down to Logan.\\n\\nStep 3: Compare the information in the options to the trait mentioned.\\nOption A provides information about the origin of the trait, while option B does not.\\n\\nStep 4: Select the option that supports the conclusion that Logan inherited the trait.\\n(A) supports the conclusion that Logan inherited the trait.\\n\\nAnswer: (A)\\n\\n\"\n",
    "        \"Question: What information supports the conclusion that Logan inherited this trait?\\nContext: Read the description of a trait.\\nLogan has blue eyes.\\nOptions: (A) Logan's mother has blue eyes. She passed this trait down to Logan. (B) Logan likes to wear a blue sweater to match his blue eyes.\\nStep 1: Identify the type of change for each option.\\nTearing a piece of paper is a physical change because it changes the shape and size of the paper, but it does not change the chemical composition of the paper.\\nBreaking a piece of glass is also a physical change because it changes the shape and size of the glass, but it does not change the chemical composition of the glass.\\n\\nStep 2: Compare the types of changes.\\nBoth tearing a piece of paper and breaking a piece of glass are physical changes.\\n\\nStep 3: Select the correct option.\\nThe correct option is (A).\\n\\nAnswer:(A)\\n\\n\"\n",
    "    )\n",
    "    prompts = []\n",
    "    if os.path.isfile(f\"datasets/{dataset}/images/test/{i['id']}.png\"):\n",
    "        text = question['input']\n",
    "        response = i['response']\n",
    "        query = e + text + \"Hint: Please answer the question and provide the correct option letter, e.g., A, B, C, D, at the end. Let's answer step by step.\\n\"\n",
    "        s_id = 1\n",
    "        s = f\"Step {s_id}\"\n",
    "        while s in response:\n",
    "            s_id += 1\n",
    "            s = f\"Step {s_id}\"\n",
    "            if s in response:\n",
    "                assistant = response.split(s)[0]\n",
    "            elif \"Answer\" in response:\n",
    "                assistant = response.split(\"Answer\")[0]\n",
    "            messages = placeholder + query + assistant\n",
    "            data.append({'id':i['id'], 'Step_id':s_id-1, 'input':messages, \"true_false\":i[\"true_false\"]})\n",
    "        "
   ],
   "id": "8184038baf01ef61",
   "outputs": [],
   "execution_count": 11
  },
  {
   "metadata": {
    "ExecuteTime": {
     "end_time": "2024-11-25T21:00:11.762348Z",
     "start_time": "2024-11-25T21:00:11.758931Z"
    }
   },
   "cell_type": "code",
   "source": "print(len(data))",
   "id": "5d408cad2fd73aa9",
   "outputs": [
    {
     "name": "stdout",
     "output_type": "stream",
     "text": [
      "5713\n"
     ]
    }
   ],
   "execution_count": 12
  },
  {
   "metadata": {
    "ExecuteTime": {
     "end_time": "2024-11-25T21:00:13.504049Z",
     "start_time": "2024-11-25T21:00:13.386733Z"
    }
   },
   "cell_type": "code",
   "source": [
    "test_step_js = f'results/{dataset}/phi3_5/test_step.json'\n",
    "with open(test_step_js, 'w') as f:\n",
    "    json.dump(data, f)"
   ],
   "id": "e4d9b6f14c9e9cdc",
   "outputs": [],
   "execution_count": 13
  },
  {
   "metadata": {},
   "cell_type": "markdown",
   "source": "# Add image path to data",
   "id": "726c24b62fa4aafe"
  },
  {
   "metadata": {},
   "cell_type": "code",
   "outputs": [],
   "execution_count": null,
   "source": [
    "from utils.json_processor import read_json, write_json\n",
    "import os\n",
    "data_path = \"datasets/ScienceQA/test.json\"\n",
    "json = read_json(data_path)\n",
    "for i in range(len(json)):\n",
    "    \n",
    "    if os.path.isfile(f\"datasets/Science/images/test/{i['id']}.png\"):\n",
    "        \n",
    "    else:\n",
    "        image = None\n",
    "        text = i['input']\n",
    "        query = e + text + \"Hint: Please answer the question and provide the correct option letter, e.g., A, B, C, D, at the end. Let's answer step by step.\"\n",
    "        messages = [\n",
    "            {\"role\": \"user\", \"content\": query},\n",
    "        ]\n",
    "    "
   ],
   "id": "9751b0d06a092594"
  },
  {
   "metadata": {},
   "cell_type": "markdown",
   "source": "",
   "id": "36782543e1e61a84"
  },
  {
   "metadata": {},
   "cell_type": "markdown",
   "source": "# Accuracy\n",
   "id": "5cbc63bbcd38e660"
  },
  {
   "metadata": {
    "ExecuteTime": {
     "end_time": "2024-12-02T21:07:38.169900Z",
     "start_time": "2024-12-02T21:07:38.165485Z"
    }
   },
   "cell_type": "code",
   "source": [
    "def calculate_accuracy(file_path):\n",
    "    true_count = 0\n",
    "    total_count = 0\n",
    "    \n",
    "    with open(file_path, 'r') as file:\n",
    "        for line in file:\n",
    "            # 去掉空白字符并分割\n",
    "            line = line.strip()\n",
    "            if line:  # 确保行不为空\n",
    "                _, value = line.split(':')\n",
    "                total_count += 1\n",
    "                if value.strip() == \"True\":\n",
    "                    true_count += 1\n",
    "    \n",
    "    if total_count == 0:\n",
    "        print(\"文件为空或没有有效数据！\")\n",
    "        return\n",
    "    \n",
    "    accuracy = (true_count / total_count) * 100\n",
    "    print(f\"总数: {total_count}\")\n",
    "    print(f\"True 数量: {true_count}\")\n",
    "    print(f\"正确率: {accuracy:.2f}%\")\n",
    "\n",
    "# 将文件路径替换为你的 txt 文件路径\n",
    "file_path = 'BoN/results/ScienceQA_400.txt'\n",
    "calculate_accuracy(file_path)\n"
   ],
   "id": "9d2168e0151a95e2",
   "outputs": [
    {
     "name": "stdout",
     "output_type": "stream",
     "text": [
      "总数: 190\n",
      "True 数量: 149\n",
      "正确率: 78.42%\n"
     ]
    }
   ],
   "execution_count": 2
  }
 ],
 "metadata": {
  "kernelspec": {
   "display_name": "Python 3",
   "language": "python",
   "name": "python3"
  },
  "language_info": {
   "codemirror_mode": {
    "name": "ipython",
    "version": 2
   },
   "file_extension": ".py",
   "mimetype": "text/x-python",
   "name": "python",
   "nbconvert_exporter": "python",
   "pygments_lexer": "ipython2",
   "version": "2.7.6"
  }
 },
 "nbformat": 4,
 "nbformat_minor": 5
}
