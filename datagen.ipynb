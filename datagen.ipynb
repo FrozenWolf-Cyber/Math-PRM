{
 "cells": [
  {
   "cell_type": "code",
   "execution_count": 1,
   "metadata": {},
   "outputs": [],
   "source": [
    "import json\n",
    "import pandas as pd    \n",
    "\n",
    "dreamprm_meta = \"DreamPRM/data/meta.json\"\n",
    "dreamprm_train = \"DreamPRM/data/train.json\"\n",
    "MATH_path = \"MATH\"\n",
    "\n",
    "import os\n",
    "MATH = {'train':{}, 'test':{}}\n",
    "for i in MATH:\n",
    "    path = os.path.join(MATH_path, i)\n",
    "    for j in os.listdir(path):\n",
    "        MATH[i][j] = [os.path.join(path, j, k) for k in os.listdir(os.path.join(path, j)) if k.endswith('.json')]\n",
    "        \n",
    "\n",
    "prm800k_path = \"prm800k/prm800k/data\"\n",
    "prm_split_path = {\"test\": \"prm800k/prm800k/math_splits/test.jsonl\", \n",
    "                 \"train\": \"prm800k/prm800k/math_splits/train.jsonl\"}\n",
    "prm800k  = {}\n",
    "\n",
    "for phase in range(1,3):\n",
    "    prm800k[f\"phase{phase}\"] = {}\n",
    "    for type in ['train', 'test']:\n",
    "        prm800k[f\"phase{phase}\"][type] = f\"{prm800k_path}/phase{phase}_{type}.jsonl\"\n",
    "        \n"
   ]
  },
  {
   "cell_type": "code",
   "execution_count": 2,
   "metadata": {},
   "outputs": [
    {
     "name": "stdout",
     "output_type": "stream",
     "text": [
      "Split: train\n",
      "phase: 1\n"
     ]
    },
    {
     "name": "stderr",
     "output_type": "stream",
     "text": [
      "100%|██████████| 949/949 [00:00<00:00, 17068.88it/s]\n"
     ]
    },
    {
     "data": {
      "application/vnd.jupyter.widget-view+json": {
       "model_id": "a8a3a6ed2c2f4404beac1b001bdc3fd5",
       "version_major": 2,
       "version_minor": 0
      },
      "text/plain": [
       "Map (num_proc=8):   0%|          | 0/949 [00:00<?, ? examples/s]"
      ]
     },
     "metadata": {},
     "output_type": "display_data"
    },
    {
     "name": "stdout",
     "output_type": "stream",
     "text": [
      "Start unnesting...\n",
      "phase: 2\n"
     ]
    },
    {
     "name": "stderr",
     "output_type": "stream",
     "text": [
      "100%|██████████| 97782/97782 [00:05<00:00, 18664.27it/s]\n"
     ]
    },
    {
     "data": {
      "application/vnd.jupyter.widget-view+json": {
       "model_id": "0b0de8bb55ac430a84cb368ce12ef99a",
       "version_major": 2,
       "version_minor": 0
      },
      "text/plain": [
       "Map (num_proc=8):   0%|          | 0/97782 [00:00<?, ? examples/s]"
      ]
     },
     "metadata": {},
     "output_type": "display_data"
    },
    {
     "name": "stdout",
     "output_type": "stream",
     "text": [
      "Start unnesting...\n",
      "Split: test\n",
      "phase: 1\n"
     ]
    },
    {
     "name": "stderr",
     "output_type": "stream",
     "text": [
      "100%|██████████| 106/106 [00:01<00:00, 78.54it/s]\n"
     ]
    },
    {
     "data": {
      "application/vnd.jupyter.widget-view+json": {
       "model_id": "a83719c4f25e40b387078e3ae161ccd9",
       "version_major": 2,
       "version_minor": 0
      },
      "text/plain": [
       "Map (num_proc=8):   0%|          | 0/106 [00:00<?, ? examples/s]"
      ]
     },
     "metadata": {},
     "output_type": "display_data"
    },
    {
     "name": "stdout",
     "output_type": "stream",
     "text": [
      "Start unnesting...\n",
      "phase: 2\n"
     ]
    },
    {
     "name": "stderr",
     "output_type": "stream",
     "text": [
      "100%|██████████| 2762/2762 [00:00<00:00, 22473.77it/s]\n"
     ]
    },
    {
     "data": {
      "application/vnd.jupyter.widget-view+json": {
       "model_id": "553f6be83efd412f94f62a3d0c6ed84e",
       "version_major": 2,
       "version_minor": 0
      },
      "text/plain": [
       "Map (num_proc=8):   0%|          | 0/2762 [00:00<?, ? examples/s]"
      ]
     },
     "metadata": {},
     "output_type": "display_data"
    },
    {
     "name": "stdout",
     "output_type": "stream",
     "text": [
      "Start unnesting...\n"
     ]
    }
   ],
   "source": [
    "from datasets import  Dataset, concatenate_datasets, DatasetDict\n",
    "import pandas as pd\n",
    "from tqdm import tqdm\n",
    "\n",
    "\n",
    "splits = [\"train\", \"test\"]\n",
    "\n",
    "\n",
    "def augment(row):\n",
    "    new_completions = []\n",
    "    new_labels = []\n",
    "    for t, l in zip(row[\"trajectories\"], row[\"trajectories_labels\"]):\n",
    "        new_completions.append(row[\"completions\"] + [t])\n",
    "        new_labels.append(row[\"labels\"] + [l])\n",
    "    row[\"new_completions\"] = new_completions\n",
    "    row[\"new_labels\"] = new_labels\n",
    "    return row\n",
    "\n",
    "\n",
    "\n",
    "def unnest_dataset_lists(\n",
    "    dataset: Dataset,\n",
    "    list_columns: str | list[str],\n",
    ") -> Dataset:\n",
    "    \"\"\"\n",
    "    Unnest list columns in a datasets.Dataset where each row contains a list of lists.\n",
    "    Each inner list becomes a new row, maintaining alignment across specified columns.\n",
    "    \n",
    "    Args:\n",
    "        dataset: The input datasets.Dataset\n",
    "        list_columns: Column name(s) containing lists to unnest\n",
    "        \n",
    "    Returns:\n",
    "        A new datasets.Dataset with unnested rows\n",
    "    \"\"\"\n",
    "    df = dataset.to_pandas()\n",
    "    \n",
    "    if isinstance(list_columns, str):\n",
    "        list_columns = [list_columns]\n",
    "    \n",
    "    # Create rows for each completion/label pair\n",
    "    rows = []\n",
    "    \n",
    "    for idx, row in df.iterrows():\n",
    "        # Get number of completions for this row\n",
    "        num_completions = len(row[list_columns[0]])\n",
    "        \n",
    "        # For each completion\n",
    "        for completion_idx in range(num_completions):\n",
    "            new_row = {}\n",
    "            \n",
    "            # Copy non-list columns\n",
    "            for col in df.columns:\n",
    "                if col not in list_columns:\n",
    "                    new_row[col] = row[col]\n",
    "            \n",
    "            # Add index to keep the reference to the prompt\n",
    "            new_row['index'] = idx\n",
    "            \n",
    "            # Add list columns\n",
    "            for col in list_columns:\n",
    "                new_row[col] = row[col][completion_idx]\n",
    "            \n",
    "            rows.append(new_row)\n",
    "    \n",
    "    # Create new dataframe\n",
    "    result_df = pd.DataFrame(rows)\n",
    "    \n",
    "    # Convert back to datasets.Dataset\n",
    "    return Dataset.from_pandas(result_df)\n",
    "\n",
    "full_ds = DatasetDict()\n",
    "\n",
    "for split in splits:\n",
    "    print(\"Split:\", split)\n",
    "    datasets = []\n",
    "    for i, ds in enumerate(prm800k):\n",
    "        ds = prm800k[ds]\n",
    "        ds = pd.read_json(path_or_buf=ds[split], lines=True)\n",
    "        print(\"phase:\", i + 1)\n",
    "        new_ds = []\n",
    "        for row in tqdm(ds.iterrows(), total=len(ds)):\n",
    "            row = row[1]  # Get the row data\n",
    "            solution = []\n",
    "            trajectories = []\n",
    "            trajectories_labels = []\n",
    "            label = []\n",
    "            new_row = {}\n",
    "            new_row[\"prompt\"] = row[\"question\"][\"problem\"]\n",
    "\n",
    "            for step in row[\"label\"][\"steps\"]:\n",
    "                completions = step[\"completions\"]\n",
    "                if not completions:\n",
    "                    continue\n",
    "                if step[\"chosen_completion\"] is None:\n",
    "                    # Haven't found any relevant point here, discard them for the moment\n",
    "                    #continue\n",
    "                    if len(completions) > 1:\n",
    "                        trajectories = []\n",
    "                        trajectories_labels = []\n",
    "                        for c in completions:\n",
    "                            trajectories.append(c[\"text\"])\n",
    "                            trajectories_labels.append(not (c[\"rating\"] == -1))\n",
    "                        # We can continue here assuming there shouldn't be any more trajectories after this point\n",
    "                        continue\n",
    "\n",
    "                else:\n",
    "                    completion = completions[step[\"chosen_completion\"]]\n",
    "                    solution.append(completion[\"text\"])\n",
    "                    label.append(not (completion[\"rating\"] == -1))\n",
    "                    continue\n",
    "\n",
    "            new_row[\"trajectories\"] = trajectories\n",
    "            new_row[\"trajectories_labels\"] = trajectories_labels\n",
    "            new_row[\"completions\"] = solution\n",
    "            new_row[\"labels\"] = label\n",
    "            new_ds.append(new_row)\n",
    "\n",
    "        new_ds = Dataset.from_list(new_ds)\n",
    "\n",
    "        # Augment the dataset by adding the trajectories as completions\n",
    "        ds_updated = new_ds.map(augment, num_proc=8)\n",
    "\n",
    "        # Similar to a pd.DataFrame.explode, get a row per each nested list in the dataset,\n",
    "        # so that we have all the possible alternative completions in separate rows\n",
    "        print(\"Start unnesting...\")\n",
    "        updated = unnest_dataset_lists(\n",
    "            ds_updated.select_columns(\n",
    "                [\"prompt\", \"new_completions\", \"new_labels\"]\n",
    "            ),\n",
    "            [\"new_completions\", \"new_labels\"]\n",
    "        ).rename_columns(\n",
    "            {\"new_completions\": \"completions\", \"new_labels\": \"labels\"}\n",
    "        ).select_columns([\"prompt\", \"completions\", \"labels\", \"index\"])  # Sort the column names\n",
    "\n",
    "        datasets.append(updated)\n",
    "    \n",
    "    full_ds[split] = concatenate_datasets(datasets)"
   ]
  },
  {
   "cell_type": "code",
   "execution_count": 70,
   "metadata": {},
   "outputs": [
    {
     "data": {
      "text/html": [
       "<div>\n",
       "<style scoped>\n",
       "    .dataframe tbody tr th:only-of-type {\n",
       "        vertical-align: middle;\n",
       "    }\n",
       "\n",
       "    .dataframe tbody tr th {\n",
       "        vertical-align: top;\n",
       "    }\n",
       "\n",
       "    .dataframe thead th {\n",
       "        text-align: right;\n",
       "    }\n",
       "</style>\n",
       "<table border=\"1\" class=\"dataframe\">\n",
       "  <thead>\n",
       "    <tr style=\"text-align: right;\">\n",
       "      <th></th>\n",
       "      <th>prompt</th>\n",
       "      <th>completions</th>\n",
       "      <th>labels</th>\n",
       "      <th>index</th>\n",
       "    </tr>\n",
       "  </thead>\n",
       "  <tbody>\n",
       "    <tr>\n",
       "      <th>0</th>\n",
       "      <td>Three pencils and a jumbo eraser cost $\\$1.24$...</td>\n",
       "      <td>[Let's call the price of a pencil p and the pr...</td>\n",
       "      <td>[True, True, True, True, True, False]</td>\n",
       "      <td>0</td>\n",
       "    </tr>\n",
       "    <tr>\n",
       "      <th>1</th>\n",
       "      <td>Three pencils and a jumbo eraser cost $\\$1.24$...</td>\n",
       "      <td>[Let's call the price of a pencil p and the pr...</td>\n",
       "      <td>[True, True, True, True, True, False]</td>\n",
       "      <td>0</td>\n",
       "    </tr>\n",
       "    <tr>\n",
       "      <th>2</th>\n",
       "      <td>Three pencils and a jumbo eraser cost $\\$1.24$...</td>\n",
       "      <td>[Let's call the price of a pencil p and the pr...</td>\n",
       "      <td>[True, True, True, True, True, False]</td>\n",
       "      <td>0</td>\n",
       "    </tr>\n",
       "    <tr>\n",
       "      <th>3</th>\n",
       "      <td>Three pencils and a jumbo eraser cost $\\$1.24$...</td>\n",
       "      <td>[Let's call the price of a pencil p and the pr...</td>\n",
       "      <td>[True, True, True, True, True, False]</td>\n",
       "      <td>0</td>\n",
       "    </tr>\n",
       "    <tr>\n",
       "      <th>4</th>\n",
       "      <td>Three pencils and a jumbo eraser cost $\\$1.24$...</td>\n",
       "      <td>[Let's call the price of a pencil p and the pr...</td>\n",
       "      <td>[True, True, True, True, True, False]</td>\n",
       "      <td>0</td>\n",
       "    </tr>\n",
       "    <tr>\n",
       "      <th>...</th>\n",
       "      <td>...</td>\n",
       "      <td>...</td>\n",
       "      <td>...</td>\n",
       "      <td>...</td>\n",
       "    </tr>\n",
       "    <tr>\n",
       "      <th>10241</th>\n",
       "      <td>Simplify $\\frac{(10r^3)(4r^6)}{8r^4}$.</td>\n",
       "      <td>[To simplify a fraction involving powers of th...</td>\n",
       "      <td>[True, True, True, False]</td>\n",
       "      <td>2760</td>\n",
       "    </tr>\n",
       "    <tr>\n",
       "      <th>10242</th>\n",
       "      <td>Simplify $\\frac{(10r^3)(4r^6)}{8r^4}$.</td>\n",
       "      <td>[To simplify a fraction involving powers of th...</td>\n",
       "      <td>[True, True, True, True]</td>\n",
       "      <td>2760</td>\n",
       "    </tr>\n",
       "    <tr>\n",
       "      <th>10243</th>\n",
       "      <td>Simplify $\\frac{(10r^3)(4r^6)}{8r^4}$.</td>\n",
       "      <td>[To simplify a fraction involving powers of th...</td>\n",
       "      <td>[True, True, True, False]</td>\n",
       "      <td>2760</td>\n",
       "    </tr>\n",
       "    <tr>\n",
       "      <th>10244</th>\n",
       "      <td>Simplify $\\frac{(10r^3)(4r^6)}{8r^4}$.</td>\n",
       "      <td>[To simplify a fraction involving powers of th...</td>\n",
       "      <td>[True, True, True, True]</td>\n",
       "      <td>2760</td>\n",
       "    </tr>\n",
       "    <tr>\n",
       "      <th>10245</th>\n",
       "      <td>Simplify $\\frac{(10r^3)(4r^6)}{8r^4}$.</td>\n",
       "      <td>[To simplify a fraction involving powers of th...</td>\n",
       "      <td>[True, True, True, True]</td>\n",
       "      <td>2760</td>\n",
       "    </tr>\n",
       "  </tbody>\n",
       "</table>\n",
       "<p>10246 rows × 4 columns</p>\n",
       "</div>"
      ],
      "text/plain": [
       "                                                  prompt  \\\n",
       "0      Three pencils and a jumbo eraser cost $\\$1.24$...   \n",
       "1      Three pencils and a jumbo eraser cost $\\$1.24$...   \n",
       "2      Three pencils and a jumbo eraser cost $\\$1.24$...   \n",
       "3      Three pencils and a jumbo eraser cost $\\$1.24$...   \n",
       "4      Three pencils and a jumbo eraser cost $\\$1.24$...   \n",
       "...                                                  ...   \n",
       "10241             Simplify $\\frac{(10r^3)(4r^6)}{8r^4}$.   \n",
       "10242             Simplify $\\frac{(10r^3)(4r^6)}{8r^4}$.   \n",
       "10243             Simplify $\\frac{(10r^3)(4r^6)}{8r^4}$.   \n",
       "10244             Simplify $\\frac{(10r^3)(4r^6)}{8r^4}$.   \n",
       "10245             Simplify $\\frac{(10r^3)(4r^6)}{8r^4}$.   \n",
       "\n",
       "                                             completions  \\\n",
       "0      [Let's call the price of a pencil p and the pr...   \n",
       "1      [Let's call the price of a pencil p and the pr...   \n",
       "2      [Let's call the price of a pencil p and the pr...   \n",
       "3      [Let's call the price of a pencil p and the pr...   \n",
       "4      [Let's call the price of a pencil p and the pr...   \n",
       "...                                                  ...   \n",
       "10241  [To simplify a fraction involving powers of th...   \n",
       "10242  [To simplify a fraction involving powers of th...   \n",
       "10243  [To simplify a fraction involving powers of th...   \n",
       "10244  [To simplify a fraction involving powers of th...   \n",
       "10245  [To simplify a fraction involving powers of th...   \n",
       "\n",
       "                                      labels  index  \n",
       "0      [True, True, True, True, True, False]      0  \n",
       "1      [True, True, True, True, True, False]      0  \n",
       "2      [True, True, True, True, True, False]      0  \n",
       "3      [True, True, True, True, True, False]      0  \n",
       "4      [True, True, True, True, True, False]      0  \n",
       "...                                      ...    ...  \n",
       "10241              [True, True, True, False]   2760  \n",
       "10242               [True, True, True, True]   2760  \n",
       "10243              [True, True, True, False]   2760  \n",
       "10244               [True, True, True, True]   2760  \n",
       "10245               [True, True, True, True]   2760  \n",
       "\n",
       "[10246 rows x 4 columns]"
      ]
     },
     "execution_count": 70,
     "metadata": {},
     "output_type": "execute_result"
    }
   ],
   "source": [
    "full_ds['test'].to_pandas()"
   ]
  },
  {
   "cell_type": "code",
   "execution_count": 72,
   "metadata": {},
   "outputs": [
    {
     "name": "stderr",
     "output_type": "stream",
     "text": [
      "100%|██████████| 10246/10246 [00:01<00:00, 9239.76it/s] \n"
     ]
    },
    {
     "name": "stdout",
     "output_type": "stream",
     "text": [
      "Total unique completions in train set: 20849 out of 64171 total completions.\n",
      "Length of dataset after removing duplicates: 20849\n"
     ]
    },
    {
     "name": "stderr",
     "output_type": "stream",
     "text": [
      "100%|██████████| 377938/377938 [00:41<00:00, 9031.40it/s] \n"
     ]
    },
    {
     "name": "stdout",
     "output_type": "stream",
     "text": [
      "Total unique completions in train set: 651944 out of 2378449 total completions.\n",
      "Length of dataset after removing duplicates: 651944\n"
     ]
    }
   ],
   "source": [
    "exhaustive=True\n",
    "\n",
    "from datasets import Dataset\n",
    "dataset = DatasetDict()\n",
    "for split_type in ['test', 'train']:\n",
    "    df = full_ds[split_type].to_pandas()\n",
    "    train_split = pd.read_json(path_or_buf=prm_split_path[split_type], lines=True)\n",
    "    df = df.merge(train_split, left_on='prompt', right_on='problem', how='inner')\n",
    "    df = df.drop(columns=['solution', 'problem'])\n",
    "    \n",
    "    if exhaustive:\n",
    "        rows = []\n",
    "        for idx, row in tqdm(df.iterrows(), total=len(df)):\n",
    "            for i in range(len(row[\"completions\"])):\n",
    "                new_row = {}\n",
    "                new_row[\"prompt\"] = row[\"prompt\"]\n",
    "                new_row[\"answer\"] = row[\"answer\"]\n",
    "                new_row[\"subject\"] = row[\"subject\"]\n",
    "                new_row[\"level\"] = row[\"level\"]\n",
    "                new_row[\"completions\"] = row[\"completions\"][:i+1]\n",
    "                new_row[\"labels\"] = row[\"labels\"][:i+1]\n",
    "                new_row[\"index\"] = row[\"index\"]\n",
    "                rows.append(new_row)\n",
    "    \n",
    "        df = pd.DataFrame(rows)\n",
    "    \n",
    "    \n",
    "    \n",
    "    df['completions_str'] = df['completions'].apply(lambda x: str(x))\n",
    "    df['labels_str'] = df['labels'].apply(lambda x: str(x))\n",
    "    df['prompt_str'] = df['prompt'].astype(str)\n",
    "    df['unique_id'] = df['completions_str'] + df['prompt_str'] + df['labels_str']\n",
    "    print(f\"Total unique completions in train set: {len(df['unique_id'].unique())} out of {len(df)} total completions.\")\n",
    "\n",
    "    ## only keep unique rows\n",
    "    df = df.drop_duplicates(subset=['unique_id'])\n",
    "    df = df.drop(columns=['completions_str', 'labels_str', 'prompt_str', 'unique_id'])\n",
    "\n",
    "    print(\"Length of dataset after removing duplicates:\", len(df))\n",
    "    dataset[split_type] = Dataset.from_pandas(df)"
   ]
  },
  {
   "cell_type": "code",
   "execution_count": 73,
   "metadata": {},
   "outputs": [
    {
     "data": {
      "text/plain": [
       "(Dataset({\n",
       "     features: ['prompt', 'answer', 'subject', 'level', 'completions', 'labels', 'index', '__index_level_0__'],\n",
       "     num_rows: 651944\n",
       " }),\n",
       " Dataset({\n",
       "     features: ['prompt', 'answer', 'subject', 'level', 'completions', 'labels', 'index', '__index_level_0__'],\n",
       "     num_rows: 20849\n",
       " }))"
      ]
     },
     "execution_count": 73,
     "metadata": {},
     "output_type": "execute_result"
    }
   ],
   "source": [
    "dataset['train'], dataset['test']"
   ]
  },
  {
   "cell_type": "code",
   "execution_count": null,
   "metadata": {},
   "outputs": [
    {
     "data": {
      "application/vnd.jupyter.widget-view+json": {
       "model_id": "6318e05856614380ba527d0ac1e9c0b3",
       "version_major": 2,
       "version_minor": 0
      },
      "text/plain": [
       "Saving the dataset (0/1 shards):   0%|          | 0/20849 [00:00<?, ? examples/s]"
      ]
     },
     "metadata": {},
     "output_type": "display_data"
    },
    {
     "data": {
      "application/vnd.jupyter.widget-view+json": {
       "model_id": "c65b0d5a1f31466292ef4b12949f9894",
       "version_major": 2,
       "version_minor": 0
      },
      "text/plain": [
       "Saving the dataset (0/2 shards):   0%|          | 0/651944 [00:00<?, ? examples/s]"
      ]
     },
     "metadata": {},
     "output_type": "display_data"
    }
   ],
   "source": [
    "# dataset.save_to_disk('PRM800k_cleaned')\n",
    "# dataset.save_to_disk('PRM800k_cleaned_exhaustive')"
   ]
  },
  {
   "cell_type": "code",
   "execution_count": null,
   "metadata": {},
   "outputs": [
    {
     "data": {
      "application/vnd.jupyter.widget-view+json": {
       "model_id": "3805a65948894b54be7168933c0f1efe",
       "version_major": 2,
       "version_minor": 0
      },
      "text/plain": [
       "Uploading the dataset shards:   0%|          | 0/1 [00:00<?, ?it/s]"
      ]
     },
     "metadata": {},
     "output_type": "display_data"
    },
    {
     "data": {
      "application/vnd.jupyter.widget-view+json": {
       "model_id": "e630e563649b4f97acb2aa6ecad3b379",
       "version_major": 2,
       "version_minor": 0
      },
      "text/plain": [
       "Creating parquet from Arrow format:   0%|          | 0/21 [00:00<?, ?ba/s]"
      ]
     },
     "metadata": {},
     "output_type": "display_data"
    },
    {
     "data": {
      "application/vnd.jupyter.widget-view+json": {
       "model_id": "2a3c50ca339543738db9cb0edfeba849",
       "version_major": 2,
       "version_minor": 0
      },
      "text/plain": [
       "Uploading the dataset shards:   0%|          | 0/2 [00:00<?, ?it/s]"
      ]
     },
     "metadata": {},
     "output_type": "display_data"
    },
    {
     "data": {
      "application/vnd.jupyter.widget-view+json": {
       "model_id": "aaf868579ab4433aa5172488d514687e",
       "version_major": 2,
       "version_minor": 0
      },
      "text/plain": [
       "Creating parquet from Arrow format:   0%|          | 0/326 [00:00<?, ?ba/s]"
      ]
     },
     "metadata": {},
     "output_type": "display_data"
    },
    {
     "data": {
      "application/vnd.jupyter.widget-view+json": {
       "model_id": "fdf7abea5ebf4f9b9e72ee38593fc27d",
       "version_major": 2,
       "version_minor": 0
      },
      "text/plain": [
       "Creating parquet from Arrow format:   0%|          | 0/326 [00:00<?, ?ba/s]"
      ]
     },
     "metadata": {},
     "output_type": "display_data"
    },
    {
     "data": {
      "text/plain": [
       "CommitInfo(commit_url='https://huggingface.co/datasets/FrozenWolf/prm800k-exhaustive/commit/9dcac23fd0f5624d2838dd9d950a37ec78c54733', commit_message='Upload dataset', commit_description='', oid='9dcac23fd0f5624d2838dd9d950a37ec78c54733', pr_url=None, repo_url=RepoUrl('https://huggingface.co/datasets/FrozenWolf/prm800k-exhaustive', endpoint='https://huggingface.co', repo_type='dataset', repo_id='FrozenWolf/prm800k-exhaustive'), pr_revision=None, pr_num=None)"
      ]
     },
     "execution_count": 77,
     "metadata": {},
     "output_type": "execute_result"
    }
   ],
   "source": [
    "### set API key, through environment variable or directly\n",
    "# dataset.push_to_hub(\"FrozenWolf/prm800k-exhaustive\", token=\"\")\n",
    "\n",
    "# dataset.push_to_hub(\"FrozenWolf/prm800k\", token=\"\")"
   ]
  },
  {
   "cell_type": "code",
   "execution_count": 248,
   "metadata": {},
   "outputs": [
    {
     "data": {
      "text/plain": [
       "DatasetDict({\n",
       "    test: Dataset({\n",
       "        features: ['prompt', 'completions', 'labels', 'index', 'answer', 'subject', 'level'],\n",
       "        num_rows: 9956\n",
       "    })\n",
       "    train: Dataset({\n",
       "        features: ['prompt', 'completions', 'labels', 'index', 'answer', 'subject', 'level'],\n",
       "        num_rows: 327797\n",
       "    })\n",
       "})"
      ]
     },
     "execution_count": 248,
     "metadata": {},
     "output_type": "execute_result"
    }
   ],
   "source": [
    "dataset"
   ]
  },
  {
   "cell_type": "code",
   "execution_count": 57,
   "metadata": {},
   "outputs": [],
   "source": [
    "sample = dataset['test'][0]"
   ]
  },
  {
   "cell_type": "code",
   "execution_count": 59,
   "metadata": {},
   "outputs": [
    {
     "data": {
      "text/plain": [
       "[\"Let's call the price of a pencil p and the price of a jumbo eraser e. Then we can write two equations.\",\n",
       " \"To solve this system, let's subtract the first equation from the second equation. This will eliminate e.\",\n",
       " '$5p+e-3p-e=1.82-1.24$.',\n",
       " 'This simplifies to $2p=0.58$. So $p=0.29$.',\n",
       " 'That means a pencil costs 29 cents.\\n\\n# Answer\\n\\n29',\n",
       " 'The first equation is 3p + e = 124, and the second equation is 5p + e = 182.']"
      ]
     },
     "execution_count": 59,
     "metadata": {},
     "output_type": "execute_result"
    }
   ],
   "source": [
    "sample['completions']"
   ]
  },
  {
   "cell_type": "code",
   "execution_count": 60,
   "metadata": {},
   "outputs": [],
   "source": [
    "from transformers import AutoModelForCausalLM, AutoTokenizer, AutoModelForTokenClassification\n",
    "\n",
    "model_name = \"Qwen/Qwen2.5-Math-1.5B-Instruct\"\n",
    "tokenizer = AutoTokenizer.from_pretrained(model_name)"
   ]
  },
  {
   "cell_type": "code",
   "execution_count": 235,
   "metadata": {},
   "outputs": [],
   "source": [
    "import DreamPRM.prm_data\n",
    "from DreamPRM.prm_data import QwenMathMetaDataset, QwenMathDataset\n",
    "## reload this dataset class\n",
    "import importlib\n",
    "importlib.reload(DreamPRM.prm_data)\n",
    "meta_ds = QwenMathMetaDataset(dataset['test'], tokenizer)\n",
    "math_ds = QwenMathDataset(dataset['test'], tokenizer, meta_ds)"
   ]
  },
  {
   "cell_type": "code",
   "execution_count": 236,
   "metadata": {},
   "outputs": [],
   "source": [
    "batch = next(iter(meta_ds))"
   ]
  },
  {
   "cell_type": "code",
   "execution_count": 246,
   "metadata": {},
   "outputs": [],
   "source": [
    "from transformers import DataCollatorForTokenClassification, DataCollatorWithPadding\n",
    "from torch.utils.data import DataLoader\n",
    "import torch\n",
    "data_collator = DataCollatorForTokenClassification(tokenizer=tokenizer, padding=True, return_tensors=\"pt\")\n",
    "pad_collator = DataCollatorWithPadding(tokenizer=tokenizer, return_tensors=\"pt\")\n",
    "\n",
    "\n",
    "\n",
    "\n",
    "def collate_merge_minibatch(batch):\n",
    "    '''batch is a list of dictionaries'''\n",
    "\n",
    "  \n",
    "    names = [\"input_ids\", \"attention_mask\", \"labels\", \"index\"]\n",
    "    merged = {}\n",
    "\n",
    "    for name_idx, item in enumerate(zip(*batch)):\n",
    "        j = []\n",
    "        for i in item:\n",
    "            j+=i\n",
    "        \n",
    "        if isinstance(j[0], torch.Tensor):\n",
    "            max_len = max([i.shape[-1] for i in j ])\n",
    "        for i in range(len(j)):    \n",
    "            if isinstance(j[i], torch.Tensor):\n",
    "                if names[name_idx] == \"input_ids\":\n",
    "                    j[i] = torch.cat((j[i], torch.ones(1, max_len - j[i].shape[-1])*tokenizer.pad_token_id), dim=-1)\n",
    "                elif names[name_idx] == \"attention_mask\":\n",
    "                    j[i] = torch.cat((j[i], torch.zeros(1, max_len - j[i].shape[-1])), dim=-1)\n",
    "                elif names[name_idx] == \"labels\":\n",
    "                    j[i] = torch.cat((j[i], torch.ones(1, max_len - j[i].shape[-1])*-100), dim=-1)\n",
    "\n",
    "        if isinstance(j[0], torch.Tensor):\n",
    "            j = torch.cat(j, dim=0)\n",
    "        \n",
    "        merged[names[name_idx]] = j\n",
    "        \n",
    "    return merged\n",
    "        \n",
    "        \n",
    "\n",
    "       \n",
    "                \n",
    "def collate_fn(batch):\n",
    "    # batch = collate_merge_minibatch(batch)\n",
    "    print([i['input_ids'].shape for i in batch])\n",
    "    batch = data_collator(batch)\n",
    "    return batch\n",
    "    \n",
    "new_tokens = ['<PRM_STEP_SCORE>']\n",
    "num_added_tokens = tokenizer.add_tokens(new_tokens)\n",
    "        \n",
    "dataloader = DataLoader(\n",
    "    math_ds,\n",
    "    batch_size=8,\n",
    "    collate_fn=collate_merge_minibatch,\n",
    "    shuffle=False\n",
    ")\n",
    "\n",
    "sample = next(iter(dataloader))"
   ]
  },
  {
   "cell_type": "code",
   "execution_count": 247,
   "metadata": {},
   "outputs": [
    {
     "data": {
      "text/plain": [
       "(torch.Size([8, 219]),\n",
       " torch.Size([8, 219]),\n",
       " torch.Size([8, 219]),\n",
       " [0, 0, 0, 0, 0, 0, 0, 0])"
      ]
     },
     "execution_count": 247,
     "metadata": {},
     "output_type": "execute_result"
    }
   ],
   "source": [
    "sample['input_ids'].shape, sample['attention_mask'].shape, sample['labels'].shape, sample['index']"
   ]
  },
  {
   "cell_type": "code",
   "execution_count": 5,
   "metadata": {},
   "outputs": [
    {
     "data": {
      "text/plain": [
       "DatasetDict({\n",
       "    test: Dataset({\n",
       "        features: ['prompt', 'completions', 'labels', 'index', 'answer', 'subject', 'level'],\n",
       "        num_rows: 9956\n",
       "    })\n",
       "    train: Dataset({\n",
       "        features: ['prompt', 'completions', 'labels', 'index', 'answer', 'subject', 'level'],\n",
       "        num_rows: 327797\n",
       "    })\n",
       "})"
      ]
     },
     "execution_count": 5,
     "metadata": {},
     "output_type": "execute_result"
    }
   ],
   "source": [
    "from datasets import load_from_disk\n",
    "dataset = load_from_disk(\"PRM800k_cleaned\")\n",
    "dataset"
   ]
  },
  {
   "cell_type": "code",
   "execution_count": 12,
   "metadata": {},
   "outputs": [
    {
     "name": "stdout",
     "output_type": "stream",
     "text": [
      "Completion: I think we should start by letting the number of people taking French be a variable, say $f$., Label: True\n",
      "Completion: And then the number of people taking English is $2f$ because there are twice as many people in the English class as there are in the French class., Label: True\n",
      "Completion: That's right. Now we can use the fact that there are 25 people taking either English or French., Label: True\n",
      "Completion: So we need to subtract 2 from the sum. That gives $2f + f - 2 = 25$. Then we can combine like terms to get $3f - 2 = 25$., Label: True\n",
      "Completion: So $3f = 27$. Then $f = 9$., Label: True\n",
      "Completion: And that means $2f = 18$., Label: True\n",
      "Completion: So the number of people taking English but not French is $18 - 2 = 16$., Label: True\n",
      "Completion: Right. That's the final answer.\n",
      "\n",
      "# Answer\n",
      "\n",
      "16, Label: True\n",
      "Completion: So $f + 2f = 25$ people taking either English or French., Label: False\n"
     ]
    }
   ],
   "source": [
    "sample = dataset['train'][100]\n",
    "for completition, label in zip(sample['completions'], sample['labels']):\n",
    "    print(f\"Completion: {completition}, Label: {label}\")"
   ]
  },
  {
   "cell_type": "code",
   "execution_count": 13,
   "metadata": {},
   "outputs": [
    {
     "data": {
      "text/plain": [
       "Dataset({\n",
       "    features: ['prompt', 'completions', 'labels', 'index', 'answer', 'subject', 'level'],\n",
       "    num_rows: 327797\n",
       "})"
      ]
     },
     "execution_count": 13,
     "metadata": {},
     "output_type": "execute_result"
    }
   ],
   "source": [
    "dataset['train']"
   ]
  },
  {
   "cell_type": "code",
   "execution_count": 26,
   "metadata": {},
   "outputs": [
    {
     "data": {
      "text/html": [
       "<div>\n",
       "<style scoped>\n",
       "    .dataframe tbody tr th:only-of-type {\n",
       "        vertical-align: middle;\n",
       "    }\n",
       "\n",
       "    .dataframe tbody tr th {\n",
       "        vertical-align: top;\n",
       "    }\n",
       "\n",
       "    .dataframe thead th {\n",
       "        text-align: right;\n",
       "    }\n",
       "</style>\n",
       "<table border=\"1\" class=\"dataframe\">\n",
       "  <thead>\n",
       "    <tr style=\"text-align: right;\">\n",
       "      <th></th>\n",
       "      <th>prompt</th>\n",
       "      <th>completions</th>\n",
       "      <th>labels</th>\n",
       "      <th>index</th>\n",
       "      <th>answer</th>\n",
       "      <th>subject</th>\n",
       "      <th>level</th>\n",
       "    </tr>\n",
       "  </thead>\n",
       "  <tbody>\n",
       "    <tr>\n",
       "      <th>0</th>\n",
       "      <td>How many positive two-digit integers leave a r...</td>\n",
       "      <td>[So if a number leaves a remainder of 2 when d...</td>\n",
       "      <td>[True, True, True, True, True, True, True, Tru...</td>\n",
       "      <td>1</td>\n",
       "      <td>12</td>\n",
       "      <td>Number Theory</td>\n",
       "      <td>2</td>\n",
       "    </tr>\n",
       "    <tr>\n",
       "      <th>1</th>\n",
       "      <td>How many positive two-digit integers leave a r...</td>\n",
       "      <td>[So if a number leaves a remainder of 2 when d...</td>\n",
       "      <td>[True, True, True, True, True, True, True, Tru...</td>\n",
       "      <td>1</td>\n",
       "      <td>12</td>\n",
       "      <td>Number Theory</td>\n",
       "      <td>2</td>\n",
       "    </tr>\n",
       "    <tr>\n",
       "      <th>2</th>\n",
       "      <td>How many positive two-digit integers leave a r...</td>\n",
       "      <td>[So if a number leaves a remainder of 2 when d...</td>\n",
       "      <td>[True, True, True, True, True, True, True, Tru...</td>\n",
       "      <td>1</td>\n",
       "      <td>12</td>\n",
       "      <td>Number Theory</td>\n",
       "      <td>2</td>\n",
       "    </tr>\n",
       "    <tr>\n",
       "      <th>3</th>\n",
       "      <td>How many positive two-digit integers leave a r...</td>\n",
       "      <td>[So if a number leaves a remainder of 2 when d...</td>\n",
       "      <td>[True, True, True, True, True, True, True, Tru...</td>\n",
       "      <td>1</td>\n",
       "      <td>12</td>\n",
       "      <td>Number Theory</td>\n",
       "      <td>2</td>\n",
       "    </tr>\n",
       "    <tr>\n",
       "      <th>4</th>\n",
       "      <td>How many positive two-digit integers leave a r...</td>\n",
       "      <td>[So if a number leaves a remainder of 2 when d...</td>\n",
       "      <td>[True, True, True, True, True, True, True, Tru...</td>\n",
       "      <td>1</td>\n",
       "      <td>12</td>\n",
       "      <td>Number Theory</td>\n",
       "      <td>2</td>\n",
       "    </tr>\n",
       "    <tr>\n",
       "      <th>...</th>\n",
       "      <td>...</td>\n",
       "      <td>...</td>\n",
       "      <td>...</td>\n",
       "      <td>...</td>\n",
       "      <td>...</td>\n",
       "      <td>...</td>\n",
       "      <td>...</td>\n",
       "    </tr>\n",
       "    <tr>\n",
       "      <th>327792</th>\n",
       "      <td>Find the greatest common divisor of 12 and 20.</td>\n",
       "      <td>[To find the greatest common divisor, we need ...</td>\n",
       "      <td>[False]</td>\n",
       "      <td>97732</td>\n",
       "      <td>4</td>\n",
       "      <td>Prealgebra</td>\n",
       "      <td>2</td>\n",
       "    </tr>\n",
       "    <tr>\n",
       "      <th>327793</th>\n",
       "      <td>Find the greatest common divisor of 12 and 20.</td>\n",
       "      <td>[Let's write out the prime factorization of 12.]</td>\n",
       "      <td>[True]</td>\n",
       "      <td>97732</td>\n",
       "      <td>4</td>\n",
       "      <td>Prealgebra</td>\n",
       "      <td>2</td>\n",
       "    </tr>\n",
       "    <tr>\n",
       "      <th>327794</th>\n",
       "      <td>Find the greatest common divisor of 12 and 20.</td>\n",
       "      <td>[Let's write the prime factorization for each ...</td>\n",
       "      <td>[True]</td>\n",
       "      <td>97732</td>\n",
       "      <td>4</td>\n",
       "      <td>Prealgebra</td>\n",
       "      <td>2</td>\n",
       "    </tr>\n",
       "    <tr>\n",
       "      <th>327795</th>\n",
       "      <td>Find the greatest common divisor of 12 and 20.</td>\n",
       "      <td>[Let's prime factorize 12. 12 is divisible by ...</td>\n",
       "      <td>[True]</td>\n",
       "      <td>97732</td>\n",
       "      <td>4</td>\n",
       "      <td>Prealgebra</td>\n",
       "      <td>2</td>\n",
       "    </tr>\n",
       "    <tr>\n",
       "      <th>327796</th>\n",
       "      <td>Find the greatest common divisor of 12 and 20.</td>\n",
       "      <td>[Ok, well let's first find the prime factoriza...</td>\n",
       "      <td>[True]</td>\n",
       "      <td>97732</td>\n",
       "      <td>4</td>\n",
       "      <td>Prealgebra</td>\n",
       "      <td>2</td>\n",
       "    </tr>\n",
       "  </tbody>\n",
       "</table>\n",
       "<p>327797 rows × 7 columns</p>\n",
       "</div>"
      ],
      "text/plain": [
       "                                                   prompt  \\\n",
       "0       How many positive two-digit integers leave a r...   \n",
       "1       How many positive two-digit integers leave a r...   \n",
       "2       How many positive two-digit integers leave a r...   \n",
       "3       How many positive two-digit integers leave a r...   \n",
       "4       How many positive two-digit integers leave a r...   \n",
       "...                                                   ...   \n",
       "327792     Find the greatest common divisor of 12 and 20.   \n",
       "327793     Find the greatest common divisor of 12 and 20.   \n",
       "327794     Find the greatest common divisor of 12 and 20.   \n",
       "327795     Find the greatest common divisor of 12 and 20.   \n",
       "327796     Find the greatest common divisor of 12 and 20.   \n",
       "\n",
       "                                              completions  \\\n",
       "0       [So if a number leaves a remainder of 2 when d...   \n",
       "1       [So if a number leaves a remainder of 2 when d...   \n",
       "2       [So if a number leaves a remainder of 2 when d...   \n",
       "3       [So if a number leaves a remainder of 2 when d...   \n",
       "4       [So if a number leaves a remainder of 2 when d...   \n",
       "...                                                   ...   \n",
       "327792  [To find the greatest common divisor, we need ...   \n",
       "327793   [Let's write out the prime factorization of 12.]   \n",
       "327794  [Let's write the prime factorization for each ...   \n",
       "327795  [Let's prime factorize 12. 12 is divisible by ...   \n",
       "327796  [Ok, well let's first find the prime factoriza...   \n",
       "\n",
       "                                                   labels  index answer  \\\n",
       "0       [True, True, True, True, True, True, True, Tru...      1     12   \n",
       "1       [True, True, True, True, True, True, True, Tru...      1     12   \n",
       "2       [True, True, True, True, True, True, True, Tru...      1     12   \n",
       "3       [True, True, True, True, True, True, True, Tru...      1     12   \n",
       "4       [True, True, True, True, True, True, True, Tru...      1     12   \n",
       "...                                                   ...    ...    ...   \n",
       "327792                                            [False]  97732      4   \n",
       "327793                                             [True]  97732      4   \n",
       "327794                                             [True]  97732      4   \n",
       "327795                                             [True]  97732      4   \n",
       "327796                                             [True]  97732      4   \n",
       "\n",
       "              subject  level  \n",
       "0       Number Theory      2  \n",
       "1       Number Theory      2  \n",
       "2       Number Theory      2  \n",
       "3       Number Theory      2  \n",
       "4       Number Theory      2  \n",
       "...               ...    ...  \n",
       "327792     Prealgebra      2  \n",
       "327793     Prealgebra      2  \n",
       "327794     Prealgebra      2  \n",
       "327795     Prealgebra      2  \n",
       "327796     Prealgebra      2  \n",
       "\n",
       "[327797 rows x 7 columns]"
      ]
     },
     "execution_count": 26,
     "metadata": {},
     "output_type": "execute_result"
    }
   ],
   "source": [
    "df = dataset['train'].to_pandas()\n",
    "df"
   ]
  },
  {
   "cell_type": "code",
   "execution_count": 11,
   "metadata": {},
   "outputs": [
    {
     "name": "stdout",
     "output_type": "stream",
     "text": [
      "Total positive labels in train set: 89.96407002368821, negative labels: 10.035929976311786\n",
      "Atleast 1 Neg labels per sentence: 60.82239922879099\n"
     ]
    }
   ],
   "source": [
    "neg = 0\n",
    "pos = 0\n",
    "neg_per_sent = 0\n",
    "for label in dataset['train']['labels']:\n",
    "    c = False\n",
    "    for l in label:\n",
    "        if l:\n",
    "            pos += 1\n",
    "        else:\n",
    "            neg += 1\n",
    "            if not c:\n",
    "                neg_per_sent += 1\n",
    "                c = True\n",
    "            \n",
    "print(f\"Total positive labels in train set: {pos*100/(pos+neg)}, negative labels: {neg*100/(pos+neg)}\")\n",
    "print(f\"Atleast 1 Neg labels per sentence: {neg_per_sent*100 / len(dataset['train'])}\")"
   ]
  }
 ],
 "metadata": {
  "kernelspec": {
   "display_name": "base",
   "language": "python",
   "name": "python3"
  },
  "language_info": {
   "codemirror_mode": {
    "name": "ipython",
    "version": 3
   },
   "file_extension": ".py",
   "mimetype": "text/x-python",
   "name": "python",
   "nbconvert_exporter": "python",
   "pygments_lexer": "ipython3",
   "version": "3.10.12"
  }
 },
 "nbformat": 4,
 "nbformat_minor": 2
}
