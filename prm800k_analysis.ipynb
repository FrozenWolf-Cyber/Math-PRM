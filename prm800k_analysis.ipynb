{
 "cells": [
  {
   "cell_type": "code",
   "execution_count": 76,
   "metadata": {},
   "outputs": [],
   "source": [
    "from datasets import load_dataset\n",
    "ds = load_dataset(\"FrozenWolf/prm800k\")"
   ]
  },
  {
   "cell_type": "code",
   "execution_count": 6,
   "metadata": {},
   "outputs": [
    {
     "data": {
      "text/html": [
       "<div>\n",
       "<style scoped>\n",
       "    .dataframe tbody tr th:only-of-type {\n",
       "        vertical-align: middle;\n",
       "    }\n",
       "\n",
       "    .dataframe tbody tr th {\n",
       "        vertical-align: top;\n",
       "    }\n",
       "\n",
       "    .dataframe thead th {\n",
       "        text-align: right;\n",
       "    }\n",
       "</style>\n",
       "<table border=\"1\" class=\"dataframe\">\n",
       "  <thead>\n",
       "    <tr style=\"text-align: right;\">\n",
       "      <th></th>\n",
       "      <th>prompt</th>\n",
       "      <th>completions</th>\n",
       "      <th>labels</th>\n",
       "      <th>index</th>\n",
       "      <th>correctness</th>\n",
       "      <th>answer</th>\n",
       "      <th>subject</th>\n",
       "      <th>level</th>\n",
       "      <th>__index_level_0__</th>\n",
       "    </tr>\n",
       "  </thead>\n",
       "  <tbody>\n",
       "    <tr>\n",
       "      <th>0</th>\n",
       "      <td>How many positive two-digit integers leave a r...</td>\n",
       "      <td>[So if a number leaves a remainder of 2 when d...</td>\n",
       "      <td>[True, True, True, True, True, True, True, Tru...</td>\n",
       "      <td>1</td>\n",
       "      <td>1</td>\n",
       "      <td>12</td>\n",
       "      <td>Number Theory</td>\n",
       "      <td>2</td>\n",
       "      <td>0</td>\n",
       "    </tr>\n",
       "    <tr>\n",
       "      <th>1</th>\n",
       "      <td>How many positive two-digit integers leave a r...</td>\n",
       "      <td>[So if a number leaves a remainder of 2 when d...</td>\n",
       "      <td>[True, True, True, True, True, True, True, Tru...</td>\n",
       "      <td>1</td>\n",
       "      <td>1</td>\n",
       "      <td>12</td>\n",
       "      <td>Number Theory</td>\n",
       "      <td>2</td>\n",
       "      <td>1</td>\n",
       "    </tr>\n",
       "    <tr>\n",
       "      <th>2</th>\n",
       "      <td>How many positive two-digit integers leave a r...</td>\n",
       "      <td>[So if a number leaves a remainder of 2 when d...</td>\n",
       "      <td>[True, True, True, True, True, True, True, Tru...</td>\n",
       "      <td>1</td>\n",
       "      <td>1</td>\n",
       "      <td>12</td>\n",
       "      <td>Number Theory</td>\n",
       "      <td>2</td>\n",
       "      <td>2</td>\n",
       "    </tr>\n",
       "    <tr>\n",
       "      <th>3</th>\n",
       "      <td>How many positive two-digit integers leave a r...</td>\n",
       "      <td>[So if a number leaves a remainder of 2 when d...</td>\n",
       "      <td>[True, True, True, True, True, True, True, Tru...</td>\n",
       "      <td>1</td>\n",
       "      <td>1</td>\n",
       "      <td>12</td>\n",
       "      <td>Number Theory</td>\n",
       "      <td>2</td>\n",
       "      <td>3</td>\n",
       "    </tr>\n",
       "    <tr>\n",
       "      <th>4</th>\n",
       "      <td>How many positive two-digit integers leave a r...</td>\n",
       "      <td>[So if a number leaves a remainder of 2 when d...</td>\n",
       "      <td>[True, True, True, True, True, True, True, Tru...</td>\n",
       "      <td>1</td>\n",
       "      <td>1</td>\n",
       "      <td>12</td>\n",
       "      <td>Number Theory</td>\n",
       "      <td>2</td>\n",
       "      <td>4</td>\n",
       "    </tr>\n",
       "    <tr>\n",
       "      <th>...</th>\n",
       "      <td>...</td>\n",
       "      <td>...</td>\n",
       "      <td>...</td>\n",
       "      <td>...</td>\n",
       "      <td>...</td>\n",
       "      <td>...</td>\n",
       "      <td>...</td>\n",
       "      <td>...</td>\n",
       "      <td>...</td>\n",
       "    </tr>\n",
       "    <tr>\n",
       "      <th>326762</th>\n",
       "      <td>Find the greatest common divisor of 12 and 20.</td>\n",
       "      <td>[To find the greatest common divisor, we need ...</td>\n",
       "      <td>[False]</td>\n",
       "      <td>97732</td>\n",
       "      <td>0</td>\n",
       "      <td>4</td>\n",
       "      <td>Prealgebra</td>\n",
       "      <td>2</td>\n",
       "      <td>327693</td>\n",
       "    </tr>\n",
       "    <tr>\n",
       "      <th>326763</th>\n",
       "      <td>Find the greatest common divisor of 12 and 20.</td>\n",
       "      <td>[Let's write out the prime factorization of 12.]</td>\n",
       "      <td>[True]</td>\n",
       "      <td>97732</td>\n",
       "      <td>0</td>\n",
       "      <td>4</td>\n",
       "      <td>Prealgebra</td>\n",
       "      <td>2</td>\n",
       "      <td>327694</td>\n",
       "    </tr>\n",
       "    <tr>\n",
       "      <th>326764</th>\n",
       "      <td>Find the greatest common divisor of 12 and 20.</td>\n",
       "      <td>[Let's write the prime factorization for each ...</td>\n",
       "      <td>[True]</td>\n",
       "      <td>97732</td>\n",
       "      <td>0</td>\n",
       "      <td>4</td>\n",
       "      <td>Prealgebra</td>\n",
       "      <td>2</td>\n",
       "      <td>327695</td>\n",
       "    </tr>\n",
       "    <tr>\n",
       "      <th>326765</th>\n",
       "      <td>Find the greatest common divisor of 12 and 20.</td>\n",
       "      <td>[Let's prime factorize 12. 12 is divisible by ...</td>\n",
       "      <td>[True]</td>\n",
       "      <td>97732</td>\n",
       "      <td>0</td>\n",
       "      <td>4</td>\n",
       "      <td>Prealgebra</td>\n",
       "      <td>2</td>\n",
       "      <td>327696</td>\n",
       "    </tr>\n",
       "    <tr>\n",
       "      <th>326766</th>\n",
       "      <td>Find the greatest common divisor of 12 and 20.</td>\n",
       "      <td>[Ok, well let's first find the prime factoriza...</td>\n",
       "      <td>[True]</td>\n",
       "      <td>97732</td>\n",
       "      <td>0</td>\n",
       "      <td>4</td>\n",
       "      <td>Prealgebra</td>\n",
       "      <td>2</td>\n",
       "      <td>327697</td>\n",
       "    </tr>\n",
       "  </tbody>\n",
       "</table>\n",
       "<p>326767 rows × 9 columns</p>\n",
       "</div>"
      ],
      "text/plain": [
       "                                                   prompt  \\\n",
       "0       How many positive two-digit integers leave a r...   \n",
       "1       How many positive two-digit integers leave a r...   \n",
       "2       How many positive two-digit integers leave a r...   \n",
       "3       How many positive two-digit integers leave a r...   \n",
       "4       How many positive two-digit integers leave a r...   \n",
       "...                                                   ...   \n",
       "326762     Find the greatest common divisor of 12 and 20.   \n",
       "326763     Find the greatest common divisor of 12 and 20.   \n",
       "326764     Find the greatest common divisor of 12 and 20.   \n",
       "326765     Find the greatest common divisor of 12 and 20.   \n",
       "326766     Find the greatest common divisor of 12 and 20.   \n",
       "\n",
       "                                              completions  \\\n",
       "0       [So if a number leaves a remainder of 2 when d...   \n",
       "1       [So if a number leaves a remainder of 2 when d...   \n",
       "2       [So if a number leaves a remainder of 2 when d...   \n",
       "3       [So if a number leaves a remainder of 2 when d...   \n",
       "4       [So if a number leaves a remainder of 2 when d...   \n",
       "...                                                   ...   \n",
       "326762  [To find the greatest common divisor, we need ...   \n",
       "326763   [Let's write out the prime factorization of 12.]   \n",
       "326764  [Let's write the prime factorization for each ...   \n",
       "326765  [Let's prime factorize 12. 12 is divisible by ...   \n",
       "326766  [Ok, well let's first find the prime factoriza...   \n",
       "\n",
       "                                                   labels  index  correctness  \\\n",
       "0       [True, True, True, True, True, True, True, Tru...      1            1   \n",
       "1       [True, True, True, True, True, True, True, Tru...      1            1   \n",
       "2       [True, True, True, True, True, True, True, Tru...      1            1   \n",
       "3       [True, True, True, True, True, True, True, Tru...      1            1   \n",
       "4       [True, True, True, True, True, True, True, Tru...      1            1   \n",
       "...                                                   ...    ...          ...   \n",
       "326762                                            [False]  97732            0   \n",
       "326763                                             [True]  97732            0   \n",
       "326764                                             [True]  97732            0   \n",
       "326765                                             [True]  97732            0   \n",
       "326766                                             [True]  97732            0   \n",
       "\n",
       "       answer        subject  level  __index_level_0__  \n",
       "0          12  Number Theory      2                  0  \n",
       "1          12  Number Theory      2                  1  \n",
       "2          12  Number Theory      2                  2  \n",
       "3          12  Number Theory      2                  3  \n",
       "4          12  Number Theory      2                  4  \n",
       "...       ...            ...    ...                ...  \n",
       "326762      4     Prealgebra      2             327693  \n",
       "326763      4     Prealgebra      2             327694  \n",
       "326764      4     Prealgebra      2             327695  \n",
       "326765      4     Prealgebra      2             327696  \n",
       "326766      4     Prealgebra      2             327697  \n",
       "\n",
       "[326767 rows x 9 columns]"
      ]
     },
     "execution_count": 6,
     "metadata": {},
     "output_type": "execute_result"
    }
   ],
   "source": [
    "df = ds['train'].to_pandas()\n",
    "df"
   ]
  },
  {
   "cell_type": "code",
   "execution_count": null,
   "metadata": {},
   "outputs": [],
   "source": [
    "### labels column is a list of bools. add them and count\n",
    "count = df['labels'].apply(lambda x: sum(x))\n",
    "total = df['labels'].apply(lambda x: len(x))\n",
    "positive_perc = count / total * 100\n",
    "positive_perc = positive_perc.to_list()\n",
    "from collections import Counter\n",
    "counter = Counter(positive_perc)"
   ]
  },
  {
   "cell_type": "code",
   "execution_count": 11,
   "metadata": {},
   "outputs": [
    {
     "data": {
      "image/png": "[encoded data removed]",
      "text/plain": [
       "<Figure size 1000x600 with 1 Axes>"
      ]
     },
     "metadata": {},
     "output_type": "display_data"
    }
   ],
   "source": [
    "\n",
    "### plot matplotlib counter\n",
    "import matplotlib.pyplot as plt\n",
    "plt.figure(figsize=(10, 6))\n",
    "plt.bar(counter.keys(), counter.values(), color='blue')\n",
    "plt.xlabel('Percentage of Positive Labels')\n",
    "plt.ylabel('Percentage of Positive Labels (%)')\n",
    "plt.title('Percentage of Positive Labels per ID')\n",
    "plt.xticks(rotation=90)\n",
    "plt.tight_layout()\n",
    "plt.show()"
   ]
  },
  {
   "cell_type": "code",
   "execution_count": 13,
   "metadata": {},
   "outputs": [
    {
     "data": {
      "text/plain": [
       "84.05077349052932"
      ]
     },
     "execution_count": 13,
     "metadata": {},
     "output_type": "execute_result"
    }
   ],
   "source": [
    "sum(positive_perc)/len(positive_perc)"
   ]
  },
  {
   "cell_type": "code",
   "execution_count": 14,
   "metadata": {},
   "outputs": [
    {
     "data": {
      "text/plain": [
       "89.90428285170461"
      ]
     },
     "execution_count": 14,
     "metadata": {},
     "output_type": "execute_result"
    }
   ],
   "source": [
    "sum(count.to_list()) / sum(total.to_list()) * 100"
   ]
  },
  {
   "cell_type": "code",
   "execution_count": 79,
   "metadata": {},
   "outputs": [
    {
     "data": {
      "text/plain": [
       "array([\"Let's call the price of a pencil p and the price of a jumbo eraser e. Then we can write two equations.\",\n",
       "       \"To solve this system, let's subtract the first equation from the second equation. This will eliminate e.\",\n",
       "       '$5p+e-3p-e=1.82-1.24$.',\n",
       "       'This simplifies to $2p=0.58$. So $p=0.29$.',\n",
       "       'That means a pencil costs 29 cents.\\n\\n# Answer\\n\\n29',\n",
       "       'The first equation is 3p + e = 124, and the second equation is 5p + e = 182.'],\n",
       "      dtype=object)"
      ]
     },
     "execution_count": 79,
     "metadata": {},
     "output_type": "execute_result"
    }
   ],
   "source": [
    "dst.completions[0]"
   ]
  },
  {
   "cell_type": "code",
   "execution_count": 110,
   "metadata": {},
   "outputs": [
    {
     "data": {
      "text/html": [
       "<div>\n",
       "<style scoped>\n",
       "    .dataframe tbody tr th:only-of-type {\n",
       "        vertical-align: middle;\n",
       "    }\n",
       "\n",
       "    .dataframe tbody tr th {\n",
       "        vertical-align: top;\n",
       "    }\n",
       "\n",
       "    .dataframe thead th {\n",
       "        text-align: right;\n",
       "    }\n",
       "</style>\n",
       "<table border=\"1\" class=\"dataframe\">\n",
       "  <thead>\n",
       "    <tr style=\"text-align: right;\">\n",
       "      <th></th>\n",
       "      <th>prompt</th>\n",
       "      <th>completions</th>\n",
       "      <th>labels</th>\n",
       "      <th>index</th>\n",
       "      <th>correctness</th>\n",
       "      <th>answer</th>\n",
       "      <th>subject</th>\n",
       "      <th>level</th>\n",
       "      <th>__index_level_0__</th>\n",
       "    </tr>\n",
       "  </thead>\n",
       "  <tbody>\n",
       "    <tr>\n",
       "      <th>0</th>\n",
       "      <td>Three pencils and a jumbo eraser cost $\\$1.24$...</td>\n",
       "      <td>[Let's call the price of a pencil p and the pr...</td>\n",
       "      <td>[True, True, True, True, True, False]</td>\n",
       "      <td>0</td>\n",
       "      <td>1</td>\n",
       "      <td>29</td>\n",
       "      <td>Algebra</td>\n",
       "      <td>2</td>\n",
       "      <td>0</td>\n",
       "    </tr>\n",
       "    <tr>\n",
       "      <th>1</th>\n",
       "      <td>Three pencils and a jumbo eraser cost $\\$1.24$...</td>\n",
       "      <td>[Let's call the price of a pencil p and the pr...</td>\n",
       "      <td>[True, True, True, True, True, False]</td>\n",
       "      <td>0</td>\n",
       "      <td>1</td>\n",
       "      <td>29</td>\n",
       "      <td>Algebra</td>\n",
       "      <td>2</td>\n",
       "      <td>1</td>\n",
       "    </tr>\n",
       "    <tr>\n",
       "      <th>2</th>\n",
       "      <td>Three pencils and a jumbo eraser cost $\\$1.24$...</td>\n",
       "      <td>[Let's call the price of a pencil p and the pr...</td>\n",
       "      <td>[True, True, True, True, True, False]</td>\n",
       "      <td>0</td>\n",
       "      <td>1</td>\n",
       "      <td>29</td>\n",
       "      <td>Algebra</td>\n",
       "      <td>2</td>\n",
       "      <td>2</td>\n",
       "    </tr>\n",
       "    <tr>\n",
       "      <th>3</th>\n",
       "      <td>Three pencils and a jumbo eraser cost $\\$1.24$...</td>\n",
       "      <td>[Let's call the price of a pencil p and the pr...</td>\n",
       "      <td>[True, True, True, True, True, False]</td>\n",
       "      <td>0</td>\n",
       "      <td>1</td>\n",
       "      <td>29</td>\n",
       "      <td>Algebra</td>\n",
       "      <td>2</td>\n",
       "      <td>3</td>\n",
       "    </tr>\n",
       "    <tr>\n",
       "      <th>4</th>\n",
       "      <td>Three pencils and a jumbo eraser cost $\\$1.24$...</td>\n",
       "      <td>[Let's call the price of a pencil p and the pr...</td>\n",
       "      <td>[True, True, True, True, True, False]</td>\n",
       "      <td>0</td>\n",
       "      <td>1</td>\n",
       "      <td>29</td>\n",
       "      <td>Algebra</td>\n",
       "      <td>2</td>\n",
       "      <td>4</td>\n",
       "    </tr>\n",
       "    <tr>\n",
       "      <th>...</th>\n",
       "      <td>...</td>\n",
       "      <td>...</td>\n",
       "      <td>...</td>\n",
       "      <td>...</td>\n",
       "      <td>...</td>\n",
       "      <td>...</td>\n",
       "      <td>...</td>\n",
       "      <td>...</td>\n",
       "      <td>...</td>\n",
       "    </tr>\n",
       "    <tr>\n",
       "      <th>9876</th>\n",
       "      <td>The point $(0,0)$ is reflected over the vertic...</td>\n",
       "      <td>[I need to find the coordinates of the final p...</td>\n",
       "      <td>[True, False]</td>\n",
       "      <td>2710</td>\n",
       "      <td>0</td>\n",
       "      <td>(2,4)</td>\n",
       "      <td>Geometry</td>\n",
       "      <td>2</td>\n",
       "      <td>9951</td>\n",
       "    </tr>\n",
       "    <tr>\n",
       "      <th>9877</th>\n",
       "      <td>The point $(0,0)$ is reflected over the vertic...</td>\n",
       "      <td>[I need to find the coordinates of the final p...</td>\n",
       "      <td>[True, True]</td>\n",
       "      <td>2710</td>\n",
       "      <td>0</td>\n",
       "      <td>(2,4)</td>\n",
       "      <td>Geometry</td>\n",
       "      <td>2</td>\n",
       "      <td>9952</td>\n",
       "    </tr>\n",
       "    <tr>\n",
       "      <th>9878</th>\n",
       "      <td>The point $(0,0)$ is reflected over the vertic...</td>\n",
       "      <td>[I need to find the coordinates of the final p...</td>\n",
       "      <td>[True, False]</td>\n",
       "      <td>2710</td>\n",
       "      <td>0</td>\n",
       "      <td>(2,4)</td>\n",
       "      <td>Geometry</td>\n",
       "      <td>2</td>\n",
       "      <td>9953</td>\n",
       "    </tr>\n",
       "    <tr>\n",
       "      <th>9879</th>\n",
       "      <td>The point $(0,0)$ is reflected over the vertic...</td>\n",
       "      <td>[I need to find the coordinates of the final p...</td>\n",
       "      <td>[True, False]</td>\n",
       "      <td>2710</td>\n",
       "      <td>0</td>\n",
       "      <td>(2,4)</td>\n",
       "      <td>Geometry</td>\n",
       "      <td>2</td>\n",
       "      <td>9954</td>\n",
       "    </tr>\n",
       "    <tr>\n",
       "      <th>9880</th>\n",
       "      <td>The point $(0,0)$ is reflected over the vertic...</td>\n",
       "      <td>[I need to find the coordinates of the final p...</td>\n",
       "      <td>[True, True]</td>\n",
       "      <td>2710</td>\n",
       "      <td>0</td>\n",
       "      <td>(2,4)</td>\n",
       "      <td>Geometry</td>\n",
       "      <td>2</td>\n",
       "      <td>9955</td>\n",
       "    </tr>\n",
       "  </tbody>\n",
       "</table>\n",
       "<p>9881 rows × 9 columns</p>\n",
       "</div>"
      ],
      "text/plain": [
       "                                                 prompt  \\\n",
       "0     Three pencils and a jumbo eraser cost $\\$1.24$...   \n",
       "1     Three pencils and a jumbo eraser cost $\\$1.24$...   \n",
       "2     Three pencils and a jumbo eraser cost $\\$1.24$...   \n",
       "3     Three pencils and a jumbo eraser cost $\\$1.24$...   \n",
       "4     Three pencils and a jumbo eraser cost $\\$1.24$...   \n",
       "...                                                 ...   \n",
       "9876  The point $(0,0)$ is reflected over the vertic...   \n",
       "9877  The point $(0,0)$ is reflected over the vertic...   \n",
       "9878  The point $(0,0)$ is reflected over the vertic...   \n",
       "9879  The point $(0,0)$ is reflected over the vertic...   \n",
       "9880  The point $(0,0)$ is reflected over the vertic...   \n",
       "\n",
       "                                            completions  \\\n",
       "0     [Let's call the price of a pencil p and the pr...   \n",
       "1     [Let's call the price of a pencil p and the pr...   \n",
       "2     [Let's call the price of a pencil p and the pr...   \n",
       "3     [Let's call the price of a pencil p and the pr...   \n",
       "4     [Let's call the price of a pencil p and the pr...   \n",
       "...                                                 ...   \n",
       "9876  [I need to find the coordinates of the final p...   \n",
       "9877  [I need to find the coordinates of the final p...   \n",
       "9878  [I need to find the coordinates of the final p...   \n",
       "9879  [I need to find the coordinates of the final p...   \n",
       "9880  [I need to find the coordinates of the final p...   \n",
       "\n",
       "                                     labels  index  correctness answer  \\\n",
       "0     [True, True, True, True, True, False]      0            1     29   \n",
       "1     [True, True, True, True, True, False]      0            1     29   \n",
       "2     [True, True, True, True, True, False]      0            1     29   \n",
       "3     [True, True, True, True, True, False]      0            1     29   \n",
       "4     [True, True, True, True, True, False]      0            1     29   \n",
       "...                                     ...    ...          ...    ...   \n",
       "9876                          [True, False]   2710            0  (2,4)   \n",
       "9877                           [True, True]   2710            0  (2,4)   \n",
       "9878                          [True, False]   2710            0  (2,4)   \n",
       "9879                          [True, False]   2710            0  (2,4)   \n",
       "9880                           [True, True]   2710            0  (2,4)   \n",
       "\n",
       "       subject  level  __index_level_0__  \n",
       "0      Algebra      2                  0  \n",
       "1      Algebra      2                  1  \n",
       "2      Algebra      2                  2  \n",
       "3      Algebra      2                  3  \n",
       "4      Algebra      2                  4  \n",
       "...        ...    ...                ...  \n",
       "9876  Geometry      2               9951  \n",
       "9877  Geometry      2               9952  \n",
       "9878  Geometry      2               9953  \n",
       "9879  Geometry      2               9954  \n",
       "9880  Geometry      2               9955  \n",
       "\n",
       "[9881 rows x 9 columns]"
      ]
     },
     "execution_count": 110,
     "metadata": {},
     "output_type": "execute_result"
    }
   ],
   "source": [
    "\n",
    "dst = ds['test'].to_pandas()\n",
    "dst"
   ]
  },
  {
   "cell_type": "code",
   "execution_count": 111,
   "metadata": {},
   "outputs": [
    {
     "data": {
      "text/plain": [
       "subject\n",
       "Algebra                   2399\n",
       "Intermediate Algebra      2361\n",
       "Number Theory             1437\n",
       "Prealgebra                1258\n",
       "Precalculus               1069\n",
       "Counting & Probability     743\n",
       "Geometry                   614\n",
       "Name: count, dtype: int64"
      ]
     },
     "execution_count": 111,
     "metadata": {},
     "output_type": "execute_result"
    }
   ],
   "source": [
    "dst['subject'].value_counts()"
   ]
  },
  {
   "cell_type": "code",
   "execution_count": 113,
   "metadata": {},
   "outputs": [],
   "source": [
    "import pandas as pd\n",
    "def select_top_20(group):\n",
    "    # Ensure label length is available\n",
    "    group = group.copy()\n",
    "    group['label_len'] = group['labels'].apply(len)\n",
    "    \n",
    "    # Get top 10 True correctness with unique prompts\n",
    "    true_rows = (\n",
    "        group[group['correctness'] == True]\n",
    "        .sort_values('label_len', ascending=False)\n",
    "        .drop_duplicates('prompt')\n",
    "        .head(10)\n",
    "    )\n",
    "\n",
    "    # Get top 10 False correctness with unique prompts\n",
    "    false_rows = (\n",
    "        group[group['correctness'] == False]\n",
    "        .sort_values('label_len', ascending=False)\n",
    "        .drop_duplicates('prompt')\n",
    "        .head(10)\n",
    "    )\n",
    "    \n",
    "    return pd.concat([true_rows, false_rows])\n",
    "\n",
    "# Apply this for each subject\n",
    "dst_selected = dst.groupby('subject', group_keys=False).apply(select_top_20)\n",
    "\n",
    "# Optional cleanup\n",
    "dst_selected = dst_selected.drop(columns='label_len').reset_index(drop=True)\n"
   ]
  },
  {
   "cell_type": "code",
   "execution_count": 117,
   "metadata": {},
   "outputs": [
    {
     "data": {
      "text/plain": [
       "subject\n",
       "Algebra                   20\n",
       "Intermediate Algebra      20\n",
       "Number Theory             19\n",
       "Counting & Probability    18\n",
       "Precalculus               18\n",
       "Geometry                  14\n",
       "Prealgebra                12\n",
       "Name: count, dtype: int64"
      ]
     },
     "execution_count": 117,
     "metadata": {},
     "output_type": "execute_result"
    }
   ],
   "source": [
    "dst_selected['subject'].value_counts()"
   ]
  },
  {
   "cell_type": "code",
   "execution_count": 108,
   "metadata": {},
   "outputs": [
    {
     "data": {
      "text/plain": [
       "0        Algebra\n",
       "1        Algebra\n",
       "2        Algebra\n",
       "3        Algebra\n",
       "4        Algebra\n",
       "          ...   \n",
       "9876    Geometry\n",
       "9877    Geometry\n",
       "9878    Geometry\n",
       "9879    Geometry\n",
       "9880    Geometry\n",
       "Name: subject, Length: 9881, dtype: object"
      ]
     },
     "execution_count": 108,
     "metadata": {},
     "output_type": "execute_result"
    }
   ],
   "source": [
    "dst['subject']"
   ]
  },
  {
   "cell_type": "code",
   "execution_count": 73,
   "metadata": {},
   "outputs": [
    {
     "data": {
      "text/plain": [
       "correctness\n",
       "0    1617\n",
       "1     169\n",
       "Name: count, dtype: int64"
      ]
     },
     "execution_count": 73,
     "metadata": {},
     "output_type": "execute_result"
    }
   ],
   "source": [
    "dst['correctness'].value_counts()"
   ]
  },
  {
   "cell_type": "code",
   "execution_count": null,
   "metadata": {},
   "outputs": [
    {
     "ename": "TypeError",
     "evalue": "'int' object is not iterable",
     "output_type": "error",
     "traceback": [
      "\u001b[0;31m---------------------------------------------------------------------------\u001b[0m",
      "\u001b[0;31mTypeError\u001b[0m                                 Traceback (most recent call last)",
      "Cell \u001b[0;32mIn[58], line 2\u001b[0m\n\u001b[1;32m      1\u001b[0m \u001b[38;5;66;03m### select rows with atleast 1 correctness in list\u001b[39;00m\n\u001b[0;32m----> 2\u001b[0m dst \u001b[38;5;241m=\u001b[39m dst[\u001b[43mdst\u001b[49m\u001b[43m[\u001b[49m\u001b[38;5;124;43m'\u001b[39;49m\u001b[38;5;124;43mcorrectness\u001b[39;49m\u001b[38;5;124;43m'\u001b[39;49m\u001b[43m]\u001b[49m\u001b[38;5;241;43m.\u001b[39;49m\u001b[43mapply\u001b[49m\u001b[43m(\u001b[49m\u001b[38;5;28;43;01mlambda\u001b[39;49;00m\u001b[43m \u001b[49m\u001b[43mx\u001b[49m\u001b[43m:\u001b[49m\u001b[43m \u001b[49m\u001b[38;5;28;43many\u001b[39;49m\u001b[43m(\u001b[49m\u001b[43mx\u001b[49m\u001b[43m)\u001b[49m\u001b[43m)\u001b[49m]\u001b[38;5;241m.\u001b[39mreset_index()\n\u001b[1;32m      3\u001b[0m dst\n",
      "File \u001b[0;32m~/miniconda3/envs/prm/lib/python3.8/site-packages/pandas/core/series.py:4630\u001b[0m, in \u001b[0;36mSeries.apply\u001b[0;34m(self, func, convert_dtype, args, **kwargs)\u001b[0m\n\u001b[1;32m   4520\u001b[0m \u001b[38;5;28;01mdef\u001b[39;00m \u001b[38;5;21mapply\u001b[39m(\n\u001b[1;32m   4521\u001b[0m     \u001b[38;5;28mself\u001b[39m,\n\u001b[1;32m   4522\u001b[0m     func: AggFuncType,\n\u001b[0;32m   (...)\u001b[0m\n\u001b[1;32m   4525\u001b[0m     \u001b[38;5;241m*\u001b[39m\u001b[38;5;241m*\u001b[39mkwargs,\n\u001b[1;32m   4526\u001b[0m ) \u001b[38;5;241m-\u001b[39m\u001b[38;5;241m>\u001b[39m DataFrame \u001b[38;5;241m|\u001b[39m Series:\n\u001b[1;32m   4527\u001b[0m \u001b[38;5;250m    \u001b[39m\u001b[38;5;124;03m\"\"\"\u001b[39;00m\n\u001b[1;32m   4528\u001b[0m \u001b[38;5;124;03m    Invoke function on values of Series.\u001b[39;00m\n\u001b[1;32m   4529\u001b[0m \n\u001b[0;32m   (...)\u001b[0m\n\u001b[1;32m   4628\u001b[0m \u001b[38;5;124;03m    dtype: float64\u001b[39;00m\n\u001b[1;32m   4629\u001b[0m \u001b[38;5;124;03m    \"\"\"\u001b[39;00m\n\u001b[0;32m-> 4630\u001b[0m     \u001b[38;5;28;01mreturn\u001b[39;00m \u001b[43mSeriesApply\u001b[49m\u001b[43m(\u001b[49m\u001b[38;5;28;43mself\u001b[39;49m\u001b[43m,\u001b[49m\u001b[43m \u001b[49m\u001b[43mfunc\u001b[49m\u001b[43m,\u001b[49m\u001b[43m \u001b[49m\u001b[43mconvert_dtype\u001b[49m\u001b[43m,\u001b[49m\u001b[43m \u001b[49m\u001b[43margs\u001b[49m\u001b[43m,\u001b[49m\u001b[43m \u001b[49m\u001b[43mkwargs\u001b[49m\u001b[43m)\u001b[49m\u001b[38;5;241;43m.\u001b[39;49m\u001b[43mapply\u001b[49m\u001b[43m(\u001b[49m\u001b[43m)\u001b[49m\n",
      "File \u001b[0;32m~/miniconda3/envs/prm/lib/python3.8/site-packages/pandas/core/apply.py:1025\u001b[0m, in \u001b[0;36mSeriesApply.apply\u001b[0;34m(self)\u001b[0m\n\u001b[1;32m   1022\u001b[0m     \u001b[38;5;28;01mreturn\u001b[39;00m \u001b[38;5;28mself\u001b[39m\u001b[38;5;241m.\u001b[39mapply_str()\n\u001b[1;32m   1024\u001b[0m \u001b[38;5;66;03m# self.f is Callable\u001b[39;00m\n\u001b[0;32m-> 1025\u001b[0m \u001b[38;5;28;01mreturn\u001b[39;00m \u001b[38;5;28;43mself\u001b[39;49m\u001b[38;5;241;43m.\u001b[39;49m\u001b[43mapply_standard\u001b[49m\u001b[43m(\u001b[49m\u001b[43m)\u001b[49m\n",
      "File \u001b[0;32m~/miniconda3/envs/prm/lib/python3.8/site-packages/pandas/core/apply.py:1076\u001b[0m, in \u001b[0;36mSeriesApply.apply_standard\u001b[0;34m(self)\u001b[0m\n\u001b[1;32m   1074\u001b[0m     \u001b[38;5;28;01melse\u001b[39;00m:\n\u001b[1;32m   1075\u001b[0m         values \u001b[38;5;241m=\u001b[39m obj\u001b[38;5;241m.\u001b[39mastype(\u001b[38;5;28mobject\u001b[39m)\u001b[38;5;241m.\u001b[39m_values\n\u001b[0;32m-> 1076\u001b[0m         mapped \u001b[38;5;241m=\u001b[39m \u001b[43mlib\u001b[49m\u001b[38;5;241;43m.\u001b[39;49m\u001b[43mmap_infer\u001b[49m\u001b[43m(\u001b[49m\n\u001b[1;32m   1077\u001b[0m \u001b[43m            \u001b[49m\u001b[43mvalues\u001b[49m\u001b[43m,\u001b[49m\n\u001b[1;32m   1078\u001b[0m \u001b[43m            \u001b[49m\u001b[43mf\u001b[49m\u001b[43m,\u001b[49m\n\u001b[1;32m   1079\u001b[0m \u001b[43m            \u001b[49m\u001b[43mconvert\u001b[49m\u001b[38;5;241;43m=\u001b[39;49m\u001b[38;5;28;43mself\u001b[39;49m\u001b[38;5;241;43m.\u001b[39;49m\u001b[43mconvert_dtype\u001b[49m\u001b[43m,\u001b[49m\n\u001b[1;32m   1080\u001b[0m \u001b[43m        \u001b[49m\u001b[43m)\u001b[49m\n\u001b[1;32m   1082\u001b[0m \u001b[38;5;28;01mif\u001b[39;00m \u001b[38;5;28mlen\u001b[39m(mapped) \u001b[38;5;129;01mand\u001b[39;00m \u001b[38;5;28misinstance\u001b[39m(mapped[\u001b[38;5;241m0\u001b[39m], ABCSeries):\n\u001b[1;32m   1083\u001b[0m     \u001b[38;5;66;03m# GH#43986 Need to do list(mapped) in order to get treated as nested\u001b[39;00m\n\u001b[1;32m   1084\u001b[0m     \u001b[38;5;66;03m#  See also GH#25959 regarding EA support\u001b[39;00m\n\u001b[1;32m   1085\u001b[0m     \u001b[38;5;28;01mreturn\u001b[39;00m obj\u001b[38;5;241m.\u001b[39m_constructor_expanddim(\u001b[38;5;28mlist\u001b[39m(mapped), index\u001b[38;5;241m=\u001b[39mobj\u001b[38;5;241m.\u001b[39mindex)\n",
      "File \u001b[0;32m~/miniconda3/envs/prm/lib/python3.8/site-packages/pandas/_libs/lib.pyx:2834\u001b[0m, in \u001b[0;36mpandas._libs.lib.map_infer\u001b[0;34m()\u001b[0m\n",
      "Cell \u001b[0;32mIn[58], line 2\u001b[0m, in \u001b[0;36m<lambda>\u001b[0;34m(x)\u001b[0m\n\u001b[1;32m      1\u001b[0m \u001b[38;5;66;03m### select rows with atleast 1 correctness in list\u001b[39;00m\n\u001b[0;32m----> 2\u001b[0m dst \u001b[38;5;241m=\u001b[39m dst[dst[\u001b[38;5;124m'\u001b[39m\u001b[38;5;124mcorrectness\u001b[39m\u001b[38;5;124m'\u001b[39m]\u001b[38;5;241m.\u001b[39mapply(\u001b[38;5;28;01mlambda\u001b[39;00m x: \u001b[38;5;28;43many\u001b[39;49m\u001b[43m(\u001b[49m\u001b[43mx\u001b[49m\u001b[43m)\u001b[49m)]\u001b[38;5;241m.\u001b[39mreset_index()\n\u001b[1;32m      3\u001b[0m dst\n",
      "\u001b[0;31mTypeError\u001b[0m: 'int' object is not iterable"
     ]
    }
   ],
   "source": [
    "# ### select rows with atleast 1 correctness in list\n",
    "# dst = dst[dst['correctness'].apply(lambda x: any(x))].reset_index()\n",
    "# dst"
   ]
  },
  {
   "cell_type": "code",
   "execution_count": 68,
   "metadata": {},
   "outputs": [
    {
     "data": {
      "text/plain": [
       "'The largest such number that is still a positive integer is 3k - 1 = -1, which means that k = 0.'"
      ]
     },
     "execution_count": 68,
     "metadata": {},
     "output_type": "execute_result"
    }
   ],
   "source": [
    "dst.iloc[-1]['completions'][3]"
   ]
  },
  {
   "cell_type": "code",
   "execution_count": 60,
   "metadata": {},
   "outputs": [
    {
     "ename": "TypeError",
     "evalue": "'int' object is not iterable",
     "output_type": "error",
     "traceback": [
      "\u001b[0;31m---------------------------------------------------------------------------\u001b[0m",
      "\u001b[0;31mTypeError\u001b[0m                                 Traceback (most recent call last)",
      "Cell \u001b[0;32mIn[60], line 2\u001b[0m\n\u001b[1;32m      1\u001b[0m \u001b[38;5;66;03m### find avg correctness\u001b[39;00m\n\u001b[0;32m----> 2\u001b[0m a \u001b[38;5;241m=\u001b[39m (\u001b[43mdst\u001b[49m\u001b[43m[\u001b[49m\u001b[38;5;124;43m'\u001b[39;49m\u001b[38;5;124;43mcorrectness\u001b[39;49m\u001b[38;5;124;43m'\u001b[39;49m\u001b[43m]\u001b[49m\u001b[38;5;241;43m.\u001b[39;49m\u001b[43mapply\u001b[49m\u001b[43m(\u001b[49m\u001b[38;5;28;43;01mlambda\u001b[39;49;00m\u001b[43m \u001b[49m\u001b[43mx\u001b[49m\u001b[43m:\u001b[49m\u001b[43m \u001b[49m\u001b[38;5;28;43msum\u001b[39;49m\u001b[43m(\u001b[49m\u001b[43mx\u001b[49m\u001b[43m)\u001b[49m\u001b[43m \u001b[49m\u001b[38;5;241;43m/\u001b[39;49m\u001b[43m \u001b[49m\u001b[38;5;28;43mlen\u001b[39;49m\u001b[43m(\u001b[49m\u001b[43mx\u001b[49m\u001b[43m)\u001b[49m\u001b[43m)\u001b[49m)\u001b[38;5;241m.\u001b[39mto_list()\n\u001b[1;32m      3\u001b[0m \u001b[38;5;28msum\u001b[39m(a) \u001b[38;5;241m/\u001b[39m \u001b[38;5;28mlen\u001b[39m(a)\n",
      "File \u001b[0;32m~/miniconda3/envs/prm/lib/python3.8/site-packages/pandas/core/series.py:4630\u001b[0m, in \u001b[0;36mSeries.apply\u001b[0;34m(self, func, convert_dtype, args, **kwargs)\u001b[0m\n\u001b[1;32m   4520\u001b[0m \u001b[38;5;28;01mdef\u001b[39;00m \u001b[38;5;21mapply\u001b[39m(\n\u001b[1;32m   4521\u001b[0m     \u001b[38;5;28mself\u001b[39m,\n\u001b[1;32m   4522\u001b[0m     func: AggFuncType,\n\u001b[0;32m   (...)\u001b[0m\n\u001b[1;32m   4525\u001b[0m     \u001b[38;5;241m*\u001b[39m\u001b[38;5;241m*\u001b[39mkwargs,\n\u001b[1;32m   4526\u001b[0m ) \u001b[38;5;241m-\u001b[39m\u001b[38;5;241m>\u001b[39m DataFrame \u001b[38;5;241m|\u001b[39m Series:\n\u001b[1;32m   4527\u001b[0m \u001b[38;5;250m    \u001b[39m\u001b[38;5;124;03m\"\"\"\u001b[39;00m\n\u001b[1;32m   4528\u001b[0m \u001b[38;5;124;03m    Invoke function on values of Series.\u001b[39;00m\n\u001b[1;32m   4529\u001b[0m \n\u001b[0;32m   (...)\u001b[0m\n\u001b[1;32m   4628\u001b[0m \u001b[38;5;124;03m    dtype: float64\u001b[39;00m\n\u001b[1;32m   4629\u001b[0m \u001b[38;5;124;03m    \"\"\"\u001b[39;00m\n\u001b[0;32m-> 4630\u001b[0m     \u001b[38;5;28;01mreturn\u001b[39;00m \u001b[43mSeriesApply\u001b[49m\u001b[43m(\u001b[49m\u001b[38;5;28;43mself\u001b[39;49m\u001b[43m,\u001b[49m\u001b[43m \u001b[49m\u001b[43mfunc\u001b[49m\u001b[43m,\u001b[49m\u001b[43m \u001b[49m\u001b[43mconvert_dtype\u001b[49m\u001b[43m,\u001b[49m\u001b[43m \u001b[49m\u001b[43margs\u001b[49m\u001b[43m,\u001b[49m\u001b[43m \u001b[49m\u001b[43mkwargs\u001b[49m\u001b[43m)\u001b[49m\u001b[38;5;241;43m.\u001b[39;49m\u001b[43mapply\u001b[49m\u001b[43m(\u001b[49m\u001b[43m)\u001b[49m\n",
      "File \u001b[0;32m~/miniconda3/envs/prm/lib/python3.8/site-packages/pandas/core/apply.py:1025\u001b[0m, in \u001b[0;36mSeriesApply.apply\u001b[0;34m(self)\u001b[0m\n\u001b[1;32m   1022\u001b[0m     \u001b[38;5;28;01mreturn\u001b[39;00m \u001b[38;5;28mself\u001b[39m\u001b[38;5;241m.\u001b[39mapply_str()\n\u001b[1;32m   1024\u001b[0m \u001b[38;5;66;03m# self.f is Callable\u001b[39;00m\n\u001b[0;32m-> 1025\u001b[0m \u001b[38;5;28;01mreturn\u001b[39;00m \u001b[38;5;28;43mself\u001b[39;49m\u001b[38;5;241;43m.\u001b[39;49m\u001b[43mapply_standard\u001b[49m\u001b[43m(\u001b[49m\u001b[43m)\u001b[49m\n",
      "File \u001b[0;32m~/miniconda3/envs/prm/lib/python3.8/site-packages/pandas/core/apply.py:1076\u001b[0m, in \u001b[0;36mSeriesApply.apply_standard\u001b[0;34m(self)\u001b[0m\n\u001b[1;32m   1074\u001b[0m     \u001b[38;5;28;01melse\u001b[39;00m:\n\u001b[1;32m   1075\u001b[0m         values \u001b[38;5;241m=\u001b[39m obj\u001b[38;5;241m.\u001b[39mastype(\u001b[38;5;28mobject\u001b[39m)\u001b[38;5;241m.\u001b[39m_values\n\u001b[0;32m-> 1076\u001b[0m         mapped \u001b[38;5;241m=\u001b[39m \u001b[43mlib\u001b[49m\u001b[38;5;241;43m.\u001b[39;49m\u001b[43mmap_infer\u001b[49m\u001b[43m(\u001b[49m\n\u001b[1;32m   1077\u001b[0m \u001b[43m            \u001b[49m\u001b[43mvalues\u001b[49m\u001b[43m,\u001b[49m\n\u001b[1;32m   1078\u001b[0m \u001b[43m            \u001b[49m\u001b[43mf\u001b[49m\u001b[43m,\u001b[49m\n\u001b[1;32m   1079\u001b[0m \u001b[43m            \u001b[49m\u001b[43mconvert\u001b[49m\u001b[38;5;241;43m=\u001b[39;49m\u001b[38;5;28;43mself\u001b[39;49m\u001b[38;5;241;43m.\u001b[39;49m\u001b[43mconvert_dtype\u001b[49m\u001b[43m,\u001b[49m\n\u001b[1;32m   1080\u001b[0m \u001b[43m        \u001b[49m\u001b[43m)\u001b[49m\n\u001b[1;32m   1082\u001b[0m \u001b[38;5;28;01mif\u001b[39;00m \u001b[38;5;28mlen\u001b[39m(mapped) \u001b[38;5;129;01mand\u001b[39;00m \u001b[38;5;28misinstance\u001b[39m(mapped[\u001b[38;5;241m0\u001b[39m], ABCSeries):\n\u001b[1;32m   1083\u001b[0m     \u001b[38;5;66;03m# GH#43986 Need to do list(mapped) in order to get treated as nested\u001b[39;00m\n\u001b[1;32m   1084\u001b[0m     \u001b[38;5;66;03m#  See also GH#25959 regarding EA support\u001b[39;00m\n\u001b[1;32m   1085\u001b[0m     \u001b[38;5;28;01mreturn\u001b[39;00m obj\u001b[38;5;241m.\u001b[39m_constructor_expanddim(\u001b[38;5;28mlist\u001b[39m(mapped), index\u001b[38;5;241m=\u001b[39mobj\u001b[38;5;241m.\u001b[39mindex)\n",
      "File \u001b[0;32m~/miniconda3/envs/prm/lib/python3.8/site-packages/pandas/_libs/lib.pyx:2834\u001b[0m, in \u001b[0;36mpandas._libs.lib.map_infer\u001b[0;34m()\u001b[0m\n",
      "Cell \u001b[0;32mIn[60], line 2\u001b[0m, in \u001b[0;36m<lambda>\u001b[0;34m(x)\u001b[0m\n\u001b[1;32m      1\u001b[0m \u001b[38;5;66;03m### find avg correctness\u001b[39;00m\n\u001b[0;32m----> 2\u001b[0m a \u001b[38;5;241m=\u001b[39m (dst[\u001b[38;5;124m'\u001b[39m\u001b[38;5;124mcorrectness\u001b[39m\u001b[38;5;124m'\u001b[39m]\u001b[38;5;241m.\u001b[39mapply(\u001b[38;5;28;01mlambda\u001b[39;00m x: \u001b[38;5;28;43msum\u001b[39;49m\u001b[43m(\u001b[49m\u001b[43mx\u001b[49m\u001b[43m)\u001b[49m \u001b[38;5;241m/\u001b[39m \u001b[38;5;28mlen\u001b[39m(x)))\u001b[38;5;241m.\u001b[39mto_list()\n\u001b[1;32m      3\u001b[0m \u001b[38;5;28msum\u001b[39m(a) \u001b[38;5;241m/\u001b[39m \u001b[38;5;28mlen\u001b[39m(a)\n",
      "\u001b[0;31mTypeError\u001b[0m: 'int' object is not iterable"
     ]
    }
   ],
   "source": [
    "### find avg correctness\n",
    "a = (dst['correctness'].apply(lambda x: sum(x) / len(x))).to_list()\n",
    "sum(a) / len(a)\n"
   ]
  },
  {
   "cell_type": "code",
   "execution_count": 61,
   "metadata": {},
   "outputs": [
    {
     "data": {
      "text/plain": [
       "correctness\n",
       "0    3174\n",
       "1     358\n",
       "Name: count, dtype: int64"
      ]
     },
     "execution_count": 61,
     "metadata": {},
     "output_type": "execute_result"
    }
   ],
   "source": [
    "dst['correctness'].value_counts()"
   ]
  },
  {
   "cell_type": "code",
   "execution_count": 95,
   "metadata": {},
   "outputs": [],
   "source": [
    "import torch\n",
    "score = torch.arange(400).reshape(4, 100)  # example scores for 100 prompts with 4 completions each\n",
    "### get a one hot random mask\n",
    "mask = torch.randint(0, 2, (4, 100)).bool() # random binary mask\n"
   ]
  },
  {
   "cell_type": "code",
   "execution_count": 96,
   "metadata": {},
   "outputs": [
    {
     "data": {
      "text/plain": [
       "tensor([[ True, False, False, False,  True, False,  True,  True, False,  True,\n",
       "         False, False,  True,  True,  True,  True, False,  True,  True, False,\n",
       "          True,  True, False, False, False, False,  True,  True,  True,  True,\n",
       "         False, False,  True,  True, False,  True,  True,  True, False, False,\n",
       "          True,  True,  True,  True, False,  True, False, False,  True, False,\n",
       "         False, False,  True, False,  True,  True, False,  True, False,  True,\n",
       "         False,  True,  True, False, False, False,  True,  True, False, False,\n",
       "          True, False,  True,  True,  True, False,  True,  True, False,  True,\n",
       "          True, False, False, False, False,  True,  True,  True,  True,  True,\n",
       "         False, False,  True,  True,  True,  True, False, False, False, False],\n",
       "        [ True, False, False,  True, False, False, False, False, False,  True,\n",
       "         False,  True, False,  True, False,  True, False, False, False,  True,\n",
       "          True, False,  True, False,  True, False,  True,  True,  True, False,\n",
       "         False, False,  True,  True,  True,  True, False,  True, False, False,\n",
       "          True, False,  True, False,  True, False,  True,  True, False, False,\n",
       "          True, False,  True,  True, False, False, False, False, False, False,\n",
       "          True, False, False,  True, False, False,  True,  True,  True, False,\n",
       "          True, False, False, False, False,  True,  True, False, False, False,\n",
       "         False, False,  True, False, False, False,  True,  True,  True,  True,\n",
       "          True,  True, False,  True, False,  True,  True,  True,  True, False],\n",
       "        [False,  True,  True, False, False, False,  True, False, False, False,\n",
       "          True,  True,  True,  True,  True, False,  True, False, False, False,\n",
       "          True,  True,  True,  True, False, False,  True,  True, False,  True,\n",
       "         False, False, False,  True,  True, False, False,  True, False, False,\n",
       "         False,  True,  True, False, False,  True, False,  True, False, False,\n",
       "         False, False, False,  True,  True,  True,  True,  True,  True, False,\n",
       "          True,  True,  True, False,  True,  True, False,  True, False, False,\n",
       "         False, False, False,  True,  True,  True, False, False, False, False,\n",
       "         False, False,  True,  True,  True, False, False,  True,  True,  True,\n",
       "         False, False, False,  True,  True,  True, False, False, False,  True],\n",
       "        [False,  True, False, False, False,  True, False,  True,  True, False,\n",
       "         False,  True,  True,  True,  True,  True,  True,  True, False,  True,\n",
       "          True, False, False,  True,  True, False,  True,  True,  True,  True,\n",
       "          True,  True,  True,  True, False,  True,  True, False, False, False,\n",
       "         False, False, False, False,  True, False,  True,  True,  True, False,\n",
       "         False, False, False, False,  True, False,  True,  True, False, False,\n",
       "          True,  True,  True, False,  True, False,  True, False, False,  True,\n",
       "         False, False, False,  True,  True, False, False, False,  True, False,\n",
       "          True,  True,  True, False,  True,  True,  True,  True,  True, False,\n",
       "         False, False,  True, False, False,  True, False, False, False,  True]])"
      ]
     },
     "execution_count": 96,
     "metadata": {},
     "output_type": "execute_result"
    }
   ],
   "source": [
    "mask"
   ]
  },
  {
   "cell_type": "code",
   "execution_count": 100,
   "metadata": {},
   "outputs": [
    {
     "data": {
      "text/plain": [
       "tensor([[  0,   1,   2,   3,   4,   5,   6,   7,   8,   9,  10,  11,  12,  13,\n",
       "          14,  15,  16,  17,  18,  19,  20,  21,  22,  23,  24,  25,  26,  27,\n",
       "          28,  29,  30,  31,  32,  33,  34,  35,  36,  37,  38,  39,  40,  41,\n",
       "          42,  43,  44,  45,  46,  47,  48,  49,  50,  51,  52,  53,  54,  55,\n",
       "          56,  57,  58,  59,  60,  61,  62,  63,  64,  65,  66,  67,  68,  69,\n",
       "          70,  71,  72,  73,  74,  75,  76,  77,  78,  79,  80,  81,  82,  83,\n",
       "          84,  85,  86,  87,  88,  89,  90,  91,  92,  93,  94,  95,  96,  97,\n",
       "          98,  99],\n",
       "        [100, 101, 102, 103, 104, 105, 106, 107, 108, 109, 110, 111, 112, 113,\n",
       "         114, 115, 116, 117, 118, 119, 120, 121, 122, 123, 124, 125, 126, 127,\n",
       "         128, 129, 130, 131, 132, 133, 134, 135, 136, 137, 138, 139, 140, 141,\n",
       "         142, 143, 144, 145, 146, 147, 148, 149, 150, 151, 152, 153, 154, 155,\n",
       "         156, 157, 158, 159, 160, 161, 162, 163, 164, 165, 166, 167, 168, 169,\n",
       "         170, 171, 172, 173, 174, 175, 176, 177, 178, 179, 180, 181, 182, 183,\n",
       "         184, 185, 186, 187, 188, 189, 190, 191, 192, 193, 194, 195, 196, 197,\n",
       "         198, 199],\n",
       "        [200, 201, 202, 203, 204, 205, 206, 207, 208, 209, 210, 211, 212, 213,\n",
       "         214, 215, 216, 217, 218, 219, 220, 221, 222, 223, 224, 225, 226, 227,\n",
       "         228, 229, 230, 231, 232, 233, 234, 235, 236, 237, 238, 239, 240, 241,\n",
       "         242, 243, 244, 245, 246, 247, 248, 249, 250, 251, 252, 253, 254, 255,\n",
       "         256, 257, 258, 259, 260, 261, 262, 263, 264, 265, 266, 267, 268, 269,\n",
       "         270, 271, 272, 273, 274, 275, 276, 277, 278, 279, 280, 281, 282, 283,\n",
       "         284, 285, 286, 287, 288, 289, 290, 291, 292, 293, 294, 295, 296, 297,\n",
       "         298, 299],\n",
       "        [300, 301, 302, 303, 304, 305, 306, 307, 308, 309, 310, 311, 312, 313,\n",
       "         314, 315, 316, 317, 318, 319, 320, 321, 322, 323, 324, 325, 326, 327,\n",
       "         328, 329, 330, 331, 332, 333, 334, 335, 336, 337, 338, 339, 340, 341,\n",
       "         342, 343, 344, 345, 346, 347, 348, 349, 350, 351, 352, 353, 354, 355,\n",
       "         356, 357, 358, 359, 360, 361, 362, 363, 364, 365, 366, 367, 368, 369,\n",
       "         370, 371, 372, 373, 374, 375, 376, 377, 378, 379, 380, 381, 382, 383,\n",
       "         384, 385, 386, 387, 388, 389, 390, 391, 392, 393, 394, 395, 396, 397,\n",
       "         398, 399]])"
      ]
     },
     "execution_count": 100,
     "metadata": {},
     "output_type": "execute_result"
    }
   ],
   "source": [
    "score"
   ]
  },
  {
   "cell_type": "code",
   "execution_count": 102,
   "metadata": {},
   "outputs": [
    {
     "data": {
      "text/plain": [
       "torch.Size([200])"
      ]
     },
     "execution_count": 102,
     "metadata": {},
     "output_type": "execute_result"
    }
   ],
   "source": [
    "mask[mask].shape"
   ]
  },
  {
   "cell_type": "code",
   "execution_count": 105,
   "metadata": {},
   "outputs": [
    {
     "data": {
      "text/plain": [
       "tensor([  0,   4,   6,   7,   9,  12,  13,  14,  15,  17,  18,  20,  21,  26,\n",
       "         27,  28,  29,  32,  33,  35,  36,  37,  40,  41,  42,  43,  45,  48,\n",
       "         52,  54,  55,  57,  59,  61,  62,  66,  67,  70,  72,  73,  74,  76,\n",
       "         77,  79,  80,  85,  86,  87,  88,  89,  92,  93,  94,  95, 100, 103,\n",
       "        109, 111, 113, 115, 119, 120, 122, 124, 126, 127, 128, 132, 133, 134,\n",
       "        135, 137, 140, 142, 144, 146, 147, 150, 152, 153, 160, 163, 166, 167,\n",
       "        168, 170, 175, 176, 182, 186, 187, 188, 189, 190, 191, 193, 195, 196,\n",
       "        197, 198, 201, 202, 206, 210, 211, 212, 213, 214, 216, 220, 221, 222,\n",
       "        223, 226, 227, 229, 233, 234, 237, 241, 242, 245, 247, 253, 254, 255,\n",
       "        256, 257, 258, 260, 261, 262, 264, 265, 267, 273, 274, 275, 282, 283,\n",
       "        284, 287, 288, 289, 293, 294, 295, 299, 301, 305, 307, 308, 311, 312,\n",
       "        313, 314, 315, 316, 317, 319, 320, 323, 324, 326, 327, 328, 329, 330,\n",
       "        331, 332, 333, 335, 336, 344, 346, 347, 348, 354, 356, 357, 360, 361,\n",
       "        362, 364, 366, 369, 373, 374, 378, 380, 381, 382, 384, 385, 386, 387,\n",
       "        388, 392, 395, 399], dtype=torch.int32)"
      ]
     },
     "execution_count": 105,
     "metadata": {},
     "output_type": "execute_result"
    }
   ],
   "source": [
    "score[mask].float().int()"
   ]
  },
  {
   "cell_type": "code",
   "execution_count": 97,
   "metadata": {},
   "outputs": [
    {
     "data": {
      "text/plain": [
       "torch.Size([200])"
      ]
     },
     "execution_count": 97,
     "metadata": {},
     "output_type": "execute_result"
    }
   ],
   "source": [
    "score[mask].shape"
   ]
  },
  {
   "cell_type": "code",
   "execution_count": 98,
   "metadata": {},
   "outputs": [
    {
     "data": {
      "text/plain": [
       "tensor(200)"
      ]
     },
     "execution_count": 98,
     "metadata": {},
     "output_type": "execute_result"
    }
   ],
   "source": [
    "mask.sum()"
   ]
  }
 ],
 "metadata": {
  "kernelspec": {
   "display_name": "prm",
   "language": "python",
   "name": "python3"
  },
  "language_info": {
   "codemirror_mode": {
    "name": "ipython",
    "version": 3
   },
   "file_extension": ".py",
   "mimetype": "text/x-python",
   "name": "python",
   "nbconvert_exporter": "python",
   "pygments_lexer": "ipython3",
   "version": "3.8.0"
  }
 },
 "nbformat": 4,
 "nbformat_minor": 2
}
